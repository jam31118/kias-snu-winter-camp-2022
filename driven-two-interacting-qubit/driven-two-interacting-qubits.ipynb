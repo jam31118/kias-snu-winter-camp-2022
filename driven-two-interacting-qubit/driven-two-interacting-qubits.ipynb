{
 "cells": [
  {
   "cell_type": "code",
   "execution_count": 1,
   "id": "5656687d",
   "metadata": {},
   "outputs": [],
   "source": [
    "import matplotlib.pyplot as plt\n",
    "plt.style.use('../note.mplstyle')\n",
    "import numpy as np"
   ]
  },
  {
   "cell_type": "code",
   "execution_count": 2,
   "id": "f058c186",
   "metadata": {},
   "outputs": [],
   "source": [
    "from qutip import *"
   ]
  },
  {
   "cell_type": "markdown",
   "id": "9897d22a",
   "metadata": {},
   "source": [
    "# Hamiltonian\n",
    "\n",
    "$$\n",
    "H_{lab} = \\sum_{j=0}^{1}{\\hbar\\omega_{j}\\frac{\\sigma_{j}^{z}}{2}} \n",
    "- J_{01}\\sigma_{0}^{z}\\sigma_{1}^{z}\n",
    "+ \\sum_{j=0}^{1}{\\hbar\\Omega_{j}\\cos{(\\omega_{MW,j}t)}\\sigma_{j}^{x}}\n",
    "$$\n",
    "\n",
    "$$\n",
    "H_{rot}^{RWA} \n",
    "= \\sum_{j=0}^{1}{\\hbar(\\omega_{j}-\\omega_{MW,j})\\frac{\\sigma_{j}^{z}}{2}} \n",
    "- J_{01}\\sigma_{0}^{z}\\sigma_{1}^{z}\n",
    "+ \\sum_{j=0}^{1}{\\hbar\\Omega_{j}\\frac{\\sigma_{j}^{x}}{2}}\n",
    "$$"
   ]
  },
  {
   "cell_type": "code",
   "execution_count": 3,
   "id": "2a6fd4a0",
   "metadata": {},
   "outputs": [],
   "source": [
    "del0 = 0.\n",
    "del1 = 0.\n",
    "\n",
    "w0 = 10 * 2 * np.pi # qubit frequency\n",
    "w1 = 10 * 2 * np.pi\n",
    "\n",
    "wR0 = 0.3 * 2 * np.pi  # Rabi amplitude\n",
    "wR1 = 0.3 * 2 * np.pi  # Rabi amplitude\n",
    "\n",
    "J01 = 0.\n",
    "\n",
    "wmw0 = w0 - del0 # w0\n",
    "wmw1 = w1 - del1 # w1\n",
    "\n",
    "w = np.array([w0, w1])\n",
    "wR = np.array([wR0, wR1])\n",
    "wmw = np.array([wmw0, wmw1])\n",
    "assert w.size == wR.size and w.size == wmw.size\n",
    "N = w.size"
   ]
  },
  {
   "cell_type": "code",
   "execution_count": 4,
   "id": "fc69c3e8",
   "metadata": {},
   "outputs": [],
   "source": [
    "zero = Qobj(np.zeros((2,2)))\n",
    "\n",
    "I, sigx, sigy, sigz = identity(2), sigmax(), sigmay(), sigmaz()"
   ]
  },
  {
   "cell_type": "code",
   "execution_count": 5,
   "id": "2f262a08",
   "metadata": {},
   "outputs": [],
   "source": [
    "sigz_0 = tensor([sigz,I])\n",
    "sigz_1 = tensor([I,sigz])\n",
    "sigzlist = [sigz_0, sigz_1]\n",
    "\n",
    "sigx_0 = tensor([sigx,I])\n",
    "sigx_1 = tensor([I,sigx])\n",
    "sigxlist = [sigx_0, sigx_1]\n",
    "\n",
    "sigzsigz = tensor(sigz,sigz)"
   ]
  },
  {
   "cell_type": "code",
   "execution_count": 6,
   "id": "19e84872",
   "metadata": {},
   "outputs": [
    {
     "data": {
      "text/latex": [
       "Quantum object: dims = [[2, 2], [2, 2]], shape = (4, 4), type = oper, isherm = True $ \\\\ \\left(\\begin{matrix}1.0 & 0.0 & 0.0 & 0.0\\\\0.0 & 1.0 & 0.0 & 0.0\\\\0.0 & 0.0 & -1.0 & 0.0\\\\0.0 & 0.0 & 0.0 & -1.0\\\\\\end{matrix}\\right)$"
      ],
      "text/plain": [
       "Quantum object: dims = [[2, 2], [2, 2]], shape = (4, 4), type = oper, isherm = True\n",
       "Qobj data =\n",
       "[[ 1.  0.  0.  0.]\n",
       " [ 0.  1.  0.  0.]\n",
       " [ 0.  0. -1.  0.]\n",
       " [ 0.  0.  0. -1.]]"
      ]
     },
     "execution_count": 6,
     "metadata": {},
     "output_type": "execute_result"
    }
   ],
   "source": [
    "sigzlist[0]"
   ]
  },
  {
   "cell_type": "code",
   "execution_count": 7,
   "id": "06f235eb",
   "metadata": {},
   "outputs": [
    {
     "data": {
      "text/latex": [
       "Quantum object: dims = [[2, 2], [2, 2]], shape = (4, 4), type = oper, isherm = True $ \\\\ \\left(\\begin{matrix}0.0 & 0.0 & 1.0 & 0.0\\\\0.0 & 0.0 & 0.0 & 1.0\\\\1.0 & 0.0 & 0.0 & 0.0\\\\0.0 & 1.0 & 0.0 & 0.0\\\\\\end{matrix}\\right)$"
      ],
      "text/plain": [
       "Quantum object: dims = [[2, 2], [2, 2]], shape = (4, 4), type = oper, isherm = True\n",
       "Qobj data =\n",
       "[[0. 0. 1. 0.]\n",
       " [0. 0. 0. 1.]\n",
       " [1. 0. 0. 0.]\n",
       " [0. 1. 0. 0.]]"
      ]
     },
     "execution_count": 7,
     "metadata": {},
     "output_type": "execute_result"
    }
   ],
   "source": [
    "sigxlist[0]"
   ]
  },
  {
   "cell_type": "code",
   "execution_count": 8,
   "id": "d8c7b0fd",
   "metadata": {},
   "outputs": [],
   "source": [
    "# (w[j]-wmw[j]) * (sigzlist[j]/2.) + wR[j] * (sigxlist[j]/2.)\n",
    "\n",
    "# np.zeros((4,4))\n",
    "\n",
    "# sigzlist[0]\n",
    "\n",
    "# tensor([zero,zero])"
   ]
  },
  {
   "cell_type": "code",
   "execution_count": 22,
   "id": "35ecd868",
   "metadata": {},
   "outputs": [],
   "source": [
    "options = Options(nsteps=20000)\n",
    "\n",
    "H0 = tensor([zero,zero])\n",
    "for j in range(N):\n",
    "    H0 += (w[j]-wmw[j]) * (sigzlist[j]/2.) # + wR[j] * (sigxlist[j]/2.)\n",
    "\n",
    "Hdrive = tensor([zero,zero])\n",
    "for j in range(N):\n",
    "    Hdrive += wR[j] * (sigxlist[j]/2.)\n",
    "\n",
    "H0 = (- J01) * sigzsigz\n",
    "# H += (- J01) * sigzsigz\n",
    "H = H0 + Hdrive"
   ]
  },
  {
   "cell_type": "code",
   "execution_count": 24,
   "id": "d698fd08",
   "metadata": {},
   "outputs": [
    {
     "data": {
      "text/plain": [
       "array([0., 0., 0., 0.])"
      ]
     },
     "execution_count": 24,
     "metadata": {},
     "output_type": "execute_result"
    }
   ],
   "source": [
    "H0.eigenenergies()"
   ]
  },
  {
   "cell_type": "code",
   "execution_count": 25,
   "id": "6c641fe4",
   "metadata": {},
   "outputs": [],
   "source": [
    "T_pi = np.pi / (wR[0])\n",
    "\n",
    "tmax = T_pi # 10\n",
    "t = np.linspace(0,tmax,201)"
   ]
  },
  {
   "cell_type": "code",
   "execution_count": 26,
   "id": "942f2200",
   "metadata": {},
   "outputs": [],
   "source": [
    "sigvec = [sigx,sigy,sigz]\n",
    "\n",
    "c_ops = []"
   ]
  },
  {
   "cell_type": "code",
   "execution_count": 27,
   "id": "322af6f9",
   "metadata": {},
   "outputs": [],
   "source": [
    "rho_00_00 = ket2dm(tensor([basis(2,0),basis(2,0)]))\n",
    "\n",
    "# rho_00_00\n",
    "\n",
    "# fidelity(rho_00_00, rho_00_00)\n",
    "\n",
    "# rho_t0 = rho_00_00\n",
    "\n",
    "def fidel_00_00(t, rho):\n",
    "#     _rho_00_00 = ket2dm(tensor([basis(2,0),basis(2,0)]))\n",
    "    return fidelity(rho_00_00, rho)\n",
    "\n",
    "# fidel_00_00(_, rho_00_00)\n",
    "\n",
    "res_00_00 = mesolve(H, rho_00_00, t, c_ops, fidel_00_00, options=options)\n",
    "\n",
    "assert not np.any(np.abs(np.imag(res_00_00.expect)).max() > 1e-15)\n",
    "fidel_00_00_from_00_00 = np.real(res_00_00.expect)"
   ]
  },
  {
   "cell_type": "code",
   "execution_count": 28,
   "id": "225eee0b",
   "metadata": {},
   "outputs": [],
   "source": [
    "rho_01_01 = ket2dm(tensor([basis(2,0),basis(2,1)]))\n",
    "\n",
    "# rho_t0 = rho_01_01\n",
    "\n",
    "rho_11_11 = ket2dm(tensor([basis(2,1),basis(2,1)]))\n",
    "def fidel_11_11(t, rho):\n",
    "#     rho_11_11 = ket2dm(tensor([basis(2,1),basis(2,1)]))\n",
    "    global rho_11_11\n",
    "    return fidelity(rho_11_11, rho)\n",
    "\n",
    "res_01_01 = mesolve(H, rho_01_01, t, c_ops, fidel_11_11, options=options)\n",
    "\n",
    "assert not np.any(np.abs(np.imag(res_01_01.expect)).max() > 1e-15)\n",
    "fidel_11_11_from_01_01 = np.real(res_01_01.expect)"
   ]
  },
  {
   "cell_type": "markdown",
   "id": "2e2535e2",
   "metadata": {},
   "source": [
    "# [TODO] Compare the `fidelity()` function in `qutip` and the analytical calculation for some density operators"
   ]
  },
  {
   "cell_type": "code",
   "execution_count": 29,
   "id": "2a598b25",
   "metadata": {},
   "outputs": [
    {
     "data": {
      "image/png": "[encoded data removed]",
      "text/plain": [
       "<Figure size 432x288 with 1 Axes>"
      ]
     },
     "metadata": {
      "needs_background": "light"
     },
     "output_type": "display_data"
    }
   ],
   "source": [
    "fig, ax = plt.subplots(constrained_layout=True)\n",
    "\n",
    "l_00_from_00, = ax.plot(t, fidel_00_00_from_00_00)\n",
    "l_11_from_01, = ax.plot(t, fidel_11_11_from_01_01)\n",
    "ax.set_xlim(t[[0,-1]])\n",
    "ax.set_ylim(0,1)\n",
    "ax.set_xlabel(r\"Time\")\n",
    "ax.set_ylabel(\"Fidelity\")\n",
    "ax.legend(\n",
    "    [l_00_from_00, l_11_from_01], \n",
    "    [r\"$F[\\rho(t), |00\\rangle\\langle 00|]$, $\\rho(0)=|00\\rangle\\langle 00|$\", \n",
    "     r\"$F[\\rho(t), |11\\rangle\\langle 11|]$, $\\rho(0)=|01\\rangle\\langle 01|$\"],\n",
    "    loc='lower center',\n",
    "    bbox_to_anchor=(0.5,1)\n",
    ")\n",
    "ax.yaxis.set_ticks([0,0.25,0.5,0.75,1])\n",
    "ax.grid(True, alpha=0.75, lw=0.75)\n",
    "ax.set_axisbelow(True)\n",
    "# fig.savefig(\"fidelities-test-003.png\")"
   ]
  }
 ],
 "metadata": {
  "kernelspec": {
   "display_name": "Python 3 (ipykernel)",
   "language": "python",
   "name": "python3"
  },
  "language_info": {
   "codemirror_mode": {
    "name": "ipython",
    "version": 3
   },
   "file_extension": ".py",
   "mimetype": "text/x-python",
   "name": "python",
   "nbconvert_exporter": "python",
   "pygments_lexer": "ipython3",
   "version": "3.8.10"
  }
 },
 "nbformat": 4,
 "nbformat_minor": 5
}

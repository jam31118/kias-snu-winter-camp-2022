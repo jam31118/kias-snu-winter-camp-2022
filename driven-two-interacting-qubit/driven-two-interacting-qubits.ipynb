{
 "cells": [
  {
   "cell_type": "code",
   "execution_count": 1,
   "id": "5656687d",
   "metadata": {},
   "outputs": [],
   "source": [
    "import matplotlib.pyplot as plt\n",
    "plt.style.use('../note.mplstyle')\n",
    "import numpy as np"
   ]
  },
  {
   "cell_type": "code",
   "execution_count": 2,
   "id": "f058c186",
   "metadata": {},
   "outputs": [],
   "source": [
    "from qutip import *"
   ]
  },
  {
   "cell_type": "markdown",
   "id": "9897d22a",
   "metadata": {},
   "source": [
    "# Hamiltonian\n",
    "\n",
    "$$\n",
    "H_{lab} = \\sum_{j=0}^{1}{\\hbar\\omega_{j}\\frac{\\sigma_{j}^{z}}{2}} \n",
    "- J_{01}\\sigma_{0}^{z}\\sigma_{1}^{z}\n",
    "+ \\sum_{j=0}^{1}{\\hbar\\Omega_{j}\\cos{(\\omega_{MW,j}t)}\\sigma_{j}^{x}}\n",
    "$$\n",
    "\n",
    "$$\n",
    "H_{rot}^{RWA} \n",
    "= \\sum_{j=0}^{1}{\\hbar(\\omega_{j}-\\omega_{MW,j})\\frac{\\sigma_{j}^{z}}{2}} \n",
    "- J_{01}\\sigma_{0}^{z}\\sigma_{1}^{z}\n",
    "+ \\sum_{j=0}^{1}{\\hbar\\Omega_{j}\\frac{\\sigma_{j}^{x}}{2}}\n",
    "$$"
   ]
  },
  {
   "cell_type": "code",
   "execution_count": 3,
   "id": "2a6fd4a0",
   "metadata": {},
   "outputs": [],
   "source": [
    "w0 = 10 * 2 * np.pi # qubit frequency\n",
    "w1 = 10 * 2 * np.pi\n",
    "\n",
    "# J01 = 0.\n",
    "J_ratio = 0.005 # 0.01\n",
    "J = J_ratio * min(w0,w1) # 0. # J01 # 0.\n",
    "assert J >= 0.\n",
    "\n",
    "Omega = 0.1 * 2*J\n",
    "\n",
    "del0 = 2*J + Omega\n",
    "del1 = 2.1 * del0\n",
    "\n",
    "# del0_ratio = 2.1 # 1.3\n",
    "# del0 = del0_ratio*(-1)*(2*J)# 0.\n",
    "# del1 = 0. # 2*J - Omega # 0.\n",
    "\n",
    "# Omega = 2*J - del0 # 0.2 * J\n",
    "\n",
    "\n",
    "\n",
    "wmw0 = w0 - del0 # w0\n",
    "wmw1 = w1 - del1 # w1\n",
    "\n",
    "wR0 = Omega # 0. # 0.3 * 2 * np.pi  # Rabi amplitude\n",
    "wR1 = 0. # 0.3 * 2 * np.pi  # Rabi amplitude\n",
    "\n",
    "\n",
    "w = np.array([w0, w1])\n",
    "wR = np.array([wR0, wR1])\n",
    "wmw = np.array([wmw0, wmw1])\n",
    "dels = w - wmw\n",
    "assert w.size == wR.size and w.size == wmw.size\n",
    "N = w.size"
   ]
  },
  {
   "cell_type": "code",
   "execution_count": 4,
   "id": "ee966ea4",
   "metadata": {},
   "outputs": [
    {
     "name": "stdout",
     "output_type": "stream",
     "text": [
      "dels_over_w = [0.011  0.0231]\n"
     ]
    }
   ],
   "source": [
    "dels_over_w = np.abs(dels / w) \n",
    "print(f\"dels_over_w = {dels_over_w}\")\n",
    "assert np.all(dels_over_w < 1e-1)"
   ]
  },
  {
   "cell_type": "code",
   "execution_count": 5,
   "id": "751bcdd8",
   "metadata": {},
   "outputs": [
    {
     "name": "stdout",
     "output_type": "stream",
     "text": [
      "wR_over_w = [0.001 0.   ]\n"
     ]
    }
   ],
   "source": [
    "wR_over_w = np.abs(wR / w)\n",
    "print(f\"wR_over_w = {wR_over_w}\")\n",
    "assert np.all(wR_over_w < 1e-1)"
   ]
  },
  {
   "cell_type": "code",
   "execution_count": 6,
   "id": "cd988866",
   "metadata": {},
   "outputs": [
    {
     "data": {
      "text/plain": [
       "array([0.69115038, 1.45141581])"
      ]
     },
     "execution_count": 6,
     "metadata": {},
     "output_type": "execute_result"
    }
   ],
   "source": [
    "dels"
   ]
  },
  {
   "cell_type": "code",
   "execution_count": 7,
   "id": "fc69c3e8",
   "metadata": {},
   "outputs": [],
   "source": [
    "zero = Qobj(np.zeros((2,2)))\n",
    "\n",
    "I, sigx, sigy, sigz = identity(2), sigmax(), sigmay(), sigmaz()"
   ]
  },
  {
   "cell_type": "code",
   "execution_count": 8,
   "id": "2f262a08",
   "metadata": {},
   "outputs": [],
   "source": [
    "sigz_0 = tensor([sigz,I])\n",
    "sigz_1 = tensor([I,sigz])\n",
    "sigzlist = [sigz_0, sigz_1]\n",
    "\n",
    "sigx_0 = tensor([sigx,I])\n",
    "sigx_1 = tensor([I,sigx])\n",
    "sigxlist = [sigx_0, sigx_1]\n",
    "\n",
    "sigzsigz = tensor(sigz,sigz)"
   ]
  },
  {
   "cell_type": "code",
   "execution_count": 9,
   "id": "19e84872",
   "metadata": {},
   "outputs": [
    {
     "data": {
      "text/latex": [
       "Quantum object: dims = [[2, 2], [2, 2]], shape = (4, 4), type = oper, isherm = True $ \\\\ \\left(\\begin{matrix}1.0 & 0.0 & 0.0 & 0.0\\\\0.0 & 1.0 & 0.0 & 0.0\\\\0.0 & 0.0 & -1.0 & 0.0\\\\0.0 & 0.0 & 0.0 & -1.0\\\\\\end{matrix}\\right)$"
      ],
      "text/plain": [
       "Quantum object: dims = [[2, 2], [2, 2]], shape = (4, 4), type = oper, isherm = True\n",
       "Qobj data =\n",
       "[[ 1.  0.  0.  0.]\n",
       " [ 0.  1.  0.  0.]\n",
       " [ 0.  0. -1.  0.]\n",
       " [ 0.  0.  0. -1.]]"
      ]
     },
     "execution_count": 9,
     "metadata": {},
     "output_type": "execute_result"
    }
   ],
   "source": [
    "sigzlist[0]"
   ]
  },
  {
   "cell_type": "code",
   "execution_count": 10,
   "id": "06f235eb",
   "metadata": {},
   "outputs": [
    {
     "data": {
      "text/latex": [
       "Quantum object: dims = [[2, 2], [2, 2]], shape = (4, 4), type = oper, isherm = True $ \\\\ \\left(\\begin{matrix}0.0 & 0.0 & 1.0 & 0.0\\\\0.0 & 0.0 & 0.0 & 1.0\\\\1.0 & 0.0 & 0.0 & 0.0\\\\0.0 & 1.0 & 0.0 & 0.0\\\\\\end{matrix}\\right)$"
      ],
      "text/plain": [
       "Quantum object: dims = [[2, 2], [2, 2]], shape = (4, 4), type = oper, isherm = True\n",
       "Qobj data =\n",
       "[[0. 0. 1. 0.]\n",
       " [0. 0. 0. 1.]\n",
       " [1. 0. 0. 0.]\n",
       " [0. 1. 0. 0.]]"
      ]
     },
     "execution_count": 10,
     "metadata": {},
     "output_type": "execute_result"
    }
   ],
   "source": [
    "sigxlist[0]"
   ]
  },
  {
   "cell_type": "code",
   "execution_count": 11,
   "id": "5d5b691d",
   "metadata": {},
   "outputs": [
    {
     "data": {
      "text/plain": [
       "1.451415805958483"
      ]
     },
     "execution_count": 11,
     "metadata": {},
     "output_type": "execute_result"
    }
   ],
   "source": [
    "w[1] - wmw[1]"
   ]
  },
  {
   "cell_type": "code",
   "execution_count": 12,
   "id": "423ff665",
   "metadata": {},
   "outputs": [
    {
     "data": {
      "text/plain": [
       "1.4514158059584845"
      ]
     },
     "execution_count": 12,
     "metadata": {},
     "output_type": "execute_result"
    }
   ],
   "source": [
    "del1"
   ]
  },
  {
   "cell_type": "code",
   "execution_count": 13,
   "id": "026b2ee5",
   "metadata": {},
   "outputs": [
    {
     "data": {
      "text/plain": [
       "0.6911503837897541"
      ]
     },
     "execution_count": 13,
     "metadata": {},
     "output_type": "execute_result"
    }
   ],
   "source": [
    "w[0] - wmw[0]"
   ]
  },
  {
   "cell_type": "code",
   "execution_count": 14,
   "id": "0c83967a",
   "metadata": {},
   "outputs": [
    {
     "data": {
      "text/plain": [
       "0.6911503837897545"
      ]
     },
     "execution_count": 14,
     "metadata": {},
     "output_type": "execute_result"
    }
   ],
   "source": [
    "del0"
   ]
  },
  {
   "cell_type": "code",
   "execution_count": 15,
   "id": "35ecd868",
   "metadata": {},
   "outputs": [],
   "source": [
    "options = Options(nsteps=20000)\n",
    "\n",
    "H0 = tensor([zero,zero])\n",
    "for j in range(N):\n",
    "    H0 += (w[j]-wmw[j]) * (sigzlist[j]/2.) # + wR[j] * (sigxlist[j]/2.)\n",
    "H0 += (- J) * sigzsigz\n",
    "    \n",
    "Hdrive = tensor([zero,zero])\n",
    "for j in range(N):\n",
    "    Hdrive += wR[j] * (sigxlist[j]/2.)\n",
    "\n",
    "# H0 = (- J01) * sigzsigz\n",
    "# H += (- J01) * sigzsigz\n",
    "H = H0 + Hdrive"
   ]
  },
  {
   "cell_type": "code",
   "execution_count": 16,
   "id": "144fb50f",
   "metadata": {},
   "outputs": [
    {
     "data": {
      "text/latex": [
       "Quantum object: dims = [[2, 2], [2, 2]], shape = (4, 4), type = oper, isherm = True $ \\\\ \\left(\\begin{matrix}1.0 & 0.0 & 0.0 & 0.0\\\\0.0 & -1.0 & 0.0 & 0.0\\\\0.0 & 0.0 & -1.0 & 0.0\\\\0.0 & 0.0 & 0.0 & 1.0\\\\\\end{matrix}\\right)$"
      ],
      "text/plain": [
       "Quantum object: dims = [[2, 2], [2, 2]], shape = (4, 4), type = oper, isherm = True\n",
       "Qobj data =\n",
       "[[ 1.  0.  0.  0.]\n",
       " [ 0. -1.  0.  0.]\n",
       " [ 0.  0. -1.  0.]\n",
       " [ 0.  0.  0.  1.]]"
      ]
     },
     "execution_count": 16,
     "metadata": {},
     "output_type": "execute_result"
    }
   ],
   "source": [
    "sigzsigz"
   ]
  },
  {
   "cell_type": "code",
   "execution_count": 17,
   "id": "d3c1dcd3",
   "metadata": {},
   "outputs": [
    {
     "data": {
      "text/latex": [
       "Quantum object: dims = [[2, 2], [2, 2]], shape = (4, 4), type = oper, isherm = True $ \\\\ \\left(\\begin{matrix}1.0 & 0.0 & 0.0 & 0.0\\\\0.0 & 1.0 & 0.0 & 0.0\\\\0.0 & 0.0 & -1.0 & 0.0\\\\0.0 & 0.0 & 0.0 & -1.0\\\\\\end{matrix}\\right)$"
      ],
      "text/plain": [
       "Quantum object: dims = [[2, 2], [2, 2]], shape = (4, 4), type = oper, isherm = True\n",
       "Qobj data =\n",
       "[[ 1.  0.  0.  0.]\n",
       " [ 0.  1.  0.  0.]\n",
       " [ 0.  0. -1.  0.]\n",
       " [ 0.  0.  0. -1.]]"
      ]
     },
     "execution_count": 17,
     "metadata": {},
     "output_type": "execute_result"
    }
   ],
   "source": [
    "sigzlist[0]"
   ]
  },
  {
   "cell_type": "code",
   "execution_count": 18,
   "id": "45e73ce9",
   "metadata": {},
   "outputs": [
    {
     "data": {
      "text/latex": [
       "Quantum object: dims = [[2, 2], [2, 2]], shape = (4, 4), type = oper, isherm = True $ \\\\ \\left(\\begin{matrix}1.0 & 0.0 & 0.0 & 0.0\\\\0.0 & -1.0 & 0.0 & 0.0\\\\0.0 & 0.0 & 1.0 & 0.0\\\\0.0 & 0.0 & 0.0 & -1.0\\\\\\end{matrix}\\right)$"
      ],
      "text/plain": [
       "Quantum object: dims = [[2, 2], [2, 2]], shape = (4, 4), type = oper, isherm = True\n",
       "Qobj data =\n",
       "[[ 1.  0.  0.  0.]\n",
       " [ 0. -1.  0.  0.]\n",
       " [ 0.  0.  1.  0.]\n",
       " [ 0.  0.  0. -1.]]"
      ]
     },
     "execution_count": 18,
     "metadata": {},
     "output_type": "execute_result"
    }
   ],
   "source": [
    "sigzlist[1]"
   ]
  },
  {
   "cell_type": "code",
   "execution_count": 19,
   "id": "7a0911e2",
   "metadata": {},
   "outputs": [
    {
     "data": {
      "text/plain": [
       "0.3141592653589793"
      ]
     },
     "execution_count": 19,
     "metadata": {},
     "output_type": "execute_result"
    }
   ],
   "source": [
    "J"
   ]
  },
  {
   "cell_type": "code",
   "execution_count": 20,
   "id": "d5535d97",
   "metadata": {},
   "outputs": [
    {
     "data": {
      "text/latex": [
       "Quantum object: dims = [[2, 2], [2, 2]], shape = (4, 4), type = oper, isherm = True $ \\\\ \\left(\\begin{matrix}0.757 & 0.0 & 0.0 & 0.0\\\\0.0 & -0.066 & 0.0 & 0.0\\\\0.0 & 0.0 & 0.694 & 0.0\\\\0.0 & 0.0 & 0.0 & -1.385\\\\\\end{matrix}\\right)$"
      ],
      "text/plain": [
       "Quantum object: dims = [[2, 2], [2, 2]], shape = (4, 4), type = oper, isherm = True\n",
       "Qobj data =\n",
       "[[ 0.75712383  0.          0.          0.        ]\n",
       " [ 0.         -0.06597345  0.          0.        ]\n",
       " [ 0.          0.          0.69429198  0.        ]\n",
       " [ 0.          0.          0.         -1.38544236]]"
      ]
     },
     "execution_count": 20,
     "metadata": {},
     "output_type": "execute_result"
    }
   ],
   "source": [
    "H0"
   ]
  },
  {
   "cell_type": "code",
   "execution_count": 21,
   "id": "05972250",
   "metadata": {},
   "outputs": [
    {
     "data": {
      "text/plain": [
       "array([-1.38544236, -0.06597345,  0.69429198,  0.75712383])"
      ]
     },
     "execution_count": 21,
     "metadata": {},
     "output_type": "execute_result"
    }
   ],
   "source": [
    "eigvals = H0.eigenenergies()\n",
    "\n",
    "eigvals"
   ]
  },
  {
   "cell_type": "code",
   "execution_count": 22,
   "id": "b7fbae58",
   "metadata": {},
   "outputs": [
    {
     "data": {
      "text/plain": [
       "<matplotlib.collections.LineCollection at 0x7fdf6c8c2fa0>"
      ]
     },
     "execution_count": 22,
     "metadata": {},
     "output_type": "execute_result"
    },
    {
     "data": {
      "image/png": "[encoded data removed]",
      "text/plain": [
       "<Figure size 432x288 with 1 Axes>"
      ]
     },
     "metadata": {
      "needs_background": "light"
     },
     "output_type": "display_data"
    }
   ],
   "source": [
    "fig, ax = plt.subplots()\n",
    "\n",
    "ax.hlines(eigvals, 0, 1)"
   ]
  },
  {
   "cell_type": "code",
   "execution_count": 23,
   "id": "73d3e32b",
   "metadata": {},
   "outputs": [
    {
     "data": {
      "text/plain": [
       "0.06283185307179587"
      ]
     },
     "execution_count": 23,
     "metadata": {},
     "output_type": "execute_result"
    }
   ],
   "source": [
    "Omega"
   ]
  },
  {
   "cell_type": "code",
   "execution_count": 24,
   "id": "676c4beb",
   "metadata": {},
   "outputs": [
    {
     "data": {
      "text/plain": [
       "0.06283185307179551"
      ]
     },
     "execution_count": 24,
     "metadata": {},
     "output_type": "execute_result"
    }
   ],
   "source": [
    "eigvals[3] - eigvals[2]"
   ]
  },
  {
   "cell_type": "code",
   "execution_count": 25,
   "id": "c6c5c60b",
   "metadata": {},
   "outputs": [
    {
     "data": {
      "text/plain": [
       "2.142566189748237"
      ]
     },
     "execution_count": 25,
     "metadata": {},
     "output_type": "execute_result"
    }
   ],
   "source": [
    "eigvals[3] - eigvals[0]"
   ]
  },
  {
   "cell_type": "code",
   "execution_count": 26,
   "id": "50ab4e7f",
   "metadata": {},
   "outputs": [
    {
     "data": {
      "text/plain": [
       "0.06283185307179587"
      ]
     },
     "execution_count": 26,
     "metadata": {},
     "output_type": "execute_result"
    }
   ],
   "source": [
    "Omega"
   ]
  },
  {
   "cell_type": "code",
   "execution_count": 27,
   "id": "fd07ff7d",
   "metadata": {},
   "outputs": [
    {
     "data": {
      "text/plain": [
       "0.6283185307179586"
      ]
     },
     "execution_count": 27,
     "metadata": {},
     "output_type": "execute_result"
    }
   ],
   "source": [
    "2*J"
   ]
  },
  {
   "cell_type": "code",
   "execution_count": 28,
   "id": "e5feb567",
   "metadata": {},
   "outputs": [
    {
     "data": {
      "text/plain": [
       "1.4514158059584845"
      ]
     },
     "execution_count": 28,
     "metadata": {},
     "output_type": "execute_result"
    }
   ],
   "source": [
    "del1"
   ]
  },
  {
   "cell_type": "code",
   "execution_count": 29,
   "id": "7a91d932",
   "metadata": {},
   "outputs": [
    {
     "data": {
      "text/plain": [
       "0.8230972752405259"
      ]
     },
     "execution_count": 29,
     "metadata": {},
     "output_type": "execute_result"
    }
   ],
   "source": [
    "abs(del1) - 2*J"
   ]
  },
  {
   "cell_type": "code",
   "execution_count": 30,
   "id": "9557738d",
   "metadata": {},
   "outputs": [
    {
     "data": {
      "text/plain": [
       "array([-1.38544236, -0.06597345,  0.69429198,  0.75712383])"
      ]
     },
     "execution_count": 30,
     "metadata": {},
     "output_type": "execute_result"
    }
   ],
   "source": [
    "eigvals"
   ]
  },
  {
   "cell_type": "markdown",
   "id": "9618ecfc",
   "metadata": {},
   "source": [
    "# [TODO] Add rwa-free solution"
   ]
  },
  {
   "cell_type": "code",
   "execution_count": 31,
   "id": "420b262c",
   "metadata": {},
   "outputs": [
    {
     "name": "stdout",
     "output_type": "stream",
     "text": [
      "E_00 = -1.3854423602330987\n",
      "E_11 = 0.7571238295151401\n",
      "E_10 = -0.06597344572538572\n",
      "E_01 = 0.6942919764433444\n"
     ]
    },
    {
     "data": {
      "text/plain": [
       "array([-1.38544236, -0.06597345,  0.69429198,  0.75712383])"
      ]
     },
     "execution_count": 31,
     "metadata": {},
     "output_type": "execute_result"
    }
   ],
   "source": [
    "E_00 = -J -(1/2.)*(del0+del1)\n",
    "E_11 = -J +(1/2.)*(del0+del1)\n",
    "E_01 = +J +(1/2.)*(-del0+del1)\n",
    "E_10 = +J -(1/2.)*(-del0+del1)\n",
    "for eigval, label in zip((E_00, E_11, E_10, E_01),(\"00\",\"11\",\"10\",\"01\")):\n",
    "    print(f\"E_{label} = {eigval}\")\n",
    "eigvals_ana = np.array([E_00, E_11, E_01, E_10])\n",
    "eigvals_ana.sort()\n",
    "eigvals_ana"
   ]
  },
  {
   "cell_type": "code",
   "execution_count": 32,
   "id": "c580a6a4",
   "metadata": {},
   "outputs": [
    {
     "data": {
      "text/plain": [
       "array([-8.88178420e-16, -6.10622664e-16,  6.66133815e-16,  8.88178420e-16])"
      ]
     },
     "execution_count": 32,
     "metadata": {},
     "output_type": "execute_result"
    }
   ],
   "source": [
    "eigvals_ana - eigvals"
   ]
  },
  {
   "cell_type": "code",
   "execution_count": 33,
   "id": "084c7015",
   "metadata": {},
   "outputs": [
    {
     "data": {
      "text/plain": [
       "0.06283185307179587"
      ]
     },
     "execution_count": 33,
     "metadata": {},
     "output_type": "execute_result"
    }
   ],
   "source": [
    "Omega"
   ]
  },
  {
   "cell_type": "code",
   "execution_count": 34,
   "id": "84f6769b",
   "metadata": {},
   "outputs": [
    {
     "data": {
      "text/plain": [
       "0.06283185307179551"
      ]
     },
     "execution_count": 34,
     "metadata": {},
     "output_type": "execute_result"
    }
   ],
   "source": [
    "eigvals[3] - eigvals[2]"
   ]
  },
  {
   "cell_type": "code",
   "execution_count": 35,
   "id": "6c641fe4",
   "metadata": {},
   "outputs": [],
   "source": [
    "# T_pi = np.pi / (wR[0])\n",
    "\n",
    "tmax = 50 # 20 # 10. # T_pi # 10\n",
    "t = np.linspace(0,tmax,201)"
   ]
  },
  {
   "cell_type": "code",
   "execution_count": 36,
   "id": "942f2200",
   "metadata": {},
   "outputs": [],
   "source": [
    "sigvec = [sigx,sigy,sigz]\n",
    "\n",
    "c_ops = []"
   ]
  },
  {
   "cell_type": "code",
   "execution_count": 37,
   "id": "322af6f9",
   "metadata": {},
   "outputs": [],
   "source": [
    "rho_00_00 = ket2dm(tensor([basis(2,1),basis(2,1)])) # ket2dm(tensor([basis(2,0),basis(2,0)]))\n",
    "\n",
    "# rho_00_00\n",
    "\n",
    "# fidelity(rho_00_00, rho_00_00)\n",
    "\n",
    "# rho_t0 = rho_00_00\n",
    "\n",
    "def fidel_00_00(t, rho):\n",
    "#     _rho_00_00 = ket2dm(tensor([basis(2,0),basis(2,0)]))\n",
    "    return fidelity(rho_00_00, rho)\n",
    "\n",
    "# fidel_00_00(_, rho_00_00)\n",
    "\n",
    "res_00_00 = mesolve(H, rho_00_00, t, c_ops, fidel_00_00, options=options)\n",
    "\n",
    "assert not np.any(np.abs(np.imag(res_00_00.expect)).max() > 1e-15)\n",
    "fidel_00_00_from_00_00 = np.real(res_00_00.expect)"
   ]
  },
  {
   "cell_type": "code",
   "execution_count": 38,
   "id": "225eee0b",
   "metadata": {},
   "outputs": [],
   "source": [
    "rho_01_01 = ket2dm(tensor([basis(2,1),basis(2,0)])) # ket2dm(tensor([basis(2,0),basis(2,1)]))\n",
    "\n",
    "# rho_t0 = rho_01_01\n",
    "\n",
    "rho_11_11 = ket2dm(tensor([basis(2,0),basis(2,0)])) # ket2dm(tensor([basis(2,1),basis(2,1)]))\n",
    "def fidel_11_11(t, rho):\n",
    "#     rho_11_11 = ket2dm(tensor([basis(2,1),basis(2,1)]))\n",
    "    global rho_11_11\n",
    "    return fidelity(rho_11_11, rho)\n",
    "\n",
    "res_01_01 = mesolve(H, rho_01_01, t, c_ops, fidel_11_11, options=options)\n",
    "\n",
    "assert not np.any(np.abs(np.imag(res_01_01.expect)).max() > 1e-15)\n",
    "fidel_11_11_from_01_01 = np.real(res_01_01.expect)"
   ]
  },
  {
   "cell_type": "markdown",
   "id": "2e2535e2",
   "metadata": {},
   "source": [
    "# [TODO] Compare the `fidelity()` function in `qutip` and the analytical calculation for some density operators"
   ]
  },
  {
   "cell_type": "code",
   "execution_count": 39,
   "id": "367a8396",
   "metadata": {},
   "outputs": [
    {
     "data": {
      "text/plain": [
       "array([62.83185307, 62.83185307])"
      ]
     },
     "execution_count": 39,
     "metadata": {},
     "output_type": "execute_result"
    }
   ],
   "source": [
    "w"
   ]
  },
  {
   "cell_type": "code",
   "execution_count": 40,
   "id": "d55e14b5",
   "metadata": {},
   "outputs": [
    {
     "data": {
      "text/plain": [
       "array([62.14070269, 61.38043727])"
      ]
     },
     "execution_count": 40,
     "metadata": {},
     "output_type": "execute_result"
    }
   ],
   "source": [
    "wmw"
   ]
  },
  {
   "cell_type": "code",
   "execution_count": 41,
   "id": "36ab640c",
   "metadata": {},
   "outputs": [
    {
     "data": {
      "text/plain": [
       "0.06283185307179587"
      ]
     },
     "execution_count": 41,
     "metadata": {},
     "output_type": "execute_result"
    }
   ],
   "source": [
    "Omega"
   ]
  },
  {
   "cell_type": "code",
   "execution_count": 42,
   "id": "1c42980c",
   "metadata": {},
   "outputs": [
    {
     "data": {
      "text/plain": [
       "0.3141592653589793"
      ]
     },
     "execution_count": 42,
     "metadata": {},
     "output_type": "execute_result"
    }
   ],
   "source": [
    "J"
   ]
  },
  {
   "cell_type": "code",
   "execution_count": 43,
   "id": "56d2b34c",
   "metadata": {},
   "outputs": [
    {
     "data": {
      "text/plain": [
       "'w0-62.83-w1-62.83-wmw0-62.14-wmw1-61.38-wR0-0.06283-wR1-0-J-0.3142-tmax-50'"
      ]
     },
     "execution_count": 43,
     "metadata": {},
     "output_type": "execute_result"
    }
   ],
   "source": [
    "params = (f\"w0-{w[0]:.4g}-w1-{w[1]:.4g}-wmw0-{wmw[0]:.4g}-wmw1\"\n",
    "          f\"-{wmw[1]:.4g}-wR0-{wR[0]:.4g}-wR1-{wR[1]:.4g}-J-{J:.4g}-tmax-{tmax}\")\n",
    "params"
   ]
  },
  {
   "cell_type": "code",
   "execution_count": 44,
   "id": "2a598b25",
   "metadata": {},
   "outputs": [
    {
     "data": {
      "image/png": "[encoded data removed]",
      "text/plain": [
       "<Figure size 432x288 with 1 Axes>"
      ]
     },
     "metadata": {
      "needs_background": "light"
     },
     "output_type": "display_data"
    }
   ],
   "source": [
    "fig, ax = plt.subplots(constrained_layout=True)\n",
    "\n",
    "l_00_from_00, = ax.plot(t, fidel_00_00_from_00_00, lw=3, ls='--')\n",
    "l_11_from_01, = ax.plot(t, fidel_11_11_from_01_01)\n",
    "ax.set_xlim(t[[0,-1]])\n",
    "ax.set_ylim(0,1)\n",
    "ax.set_xlabel(r\"Time\")\n",
    "ax.set_ylabel(\"Fidelity\")\n",
    "ax.legend(\n",
    "    [l_00_from_00, l_11_from_01], \n",
    "    [r\"$F[\\rho(t), |00\\rangle\\langle 00|]$, $\\rho(0)=|00\\rangle\\langle 00|$\", \n",
    "     r\"$F[\\rho(t), |11\\rangle\\langle 11|]$, $\\rho(0)=|01\\rangle\\langle 01|$\"],\n",
    "    loc='lower center',\n",
    "    bbox_to_anchor=(0.5,1)\n",
    ")\n",
    "ax.yaxis.set_ticks([0,0.25,0.5,0.75,1])\n",
    "ax.grid(True, alpha=0.75, lw=0.75)\n",
    "ax.set_axisbelow(True)\n",
    "# fig.savefig(f\"fidelities-test-019-{params}.png\")"
   ]
  }
 ],
 "metadata": {
  "kernelspec": {
   "display_name": "Python 3 (ipykernel)",
   "language": "python",
   "name": "python3"
  },
  "language_info": {
   "codemirror_mode": {
    "name": "ipython",
    "version": 3
   },
   "file_extension": ".py",
   "mimetype": "text/x-python",
   "name": "python",
   "nbconvert_exporter": "python",
   "pygments_lexer": "ipython3",
   "version": "3.8.10"
  }
 },
 "nbformat": 4,
 "nbformat_minor": 5
}

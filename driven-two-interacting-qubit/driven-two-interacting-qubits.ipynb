{
 "cells": [
  {
   "cell_type": "code",
   "execution_count": 1,
   "id": "5656687d",
   "metadata": {},
   "outputs": [],
   "source": [
    "import matplotlib.pyplot as plt\n",
    "plt.style.use('../note.mplstyle')\n",
    "import numpy as np"
   ]
  },
  {
   "cell_type": "code",
   "execution_count": 2,
   "id": "f058c186",
   "metadata": {},
   "outputs": [],
   "source": [
    "from qutip import *"
   ]
  },
  {
   "cell_type": "markdown",
   "id": "9897d22a",
   "metadata": {},
   "source": [
    "# Hamiltonian\n",
    "\n",
    "$$\n",
    "H_{lab} = \\sum_{j=0}^{1}{\\hbar\\omega_{j}\\frac{\\sigma_{j}^{z}}{2}} \n",
    "- J_{01}\\sigma_{0}^{z}\\sigma_{1}^{z}\n",
    "+ \\sum_{j=0}^{1}{\\hbar\\Omega_{j}\\cos{(\\omega_{MW,j}t)}\\sigma_{j}^{x}}\n",
    "$$\n",
    "\n",
    "$$\n",
    "H_{rot}^{RWA} \n",
    "= \\sum_{j=0}^{1}{\\hbar(\\omega_{j}-\\omega_{MW,j})\\frac{\\sigma_{j}^{z}}{2}} \n",
    "- J_{01}\\sigma_{0}^{z}\\sigma_{1}^{z}\n",
    "+ \\sum_{j=0}^{1}{\\hbar\\Omega_{j}\\frac{\\sigma_{j}^{x}}{2}}\n",
    "$$"
   ]
  },
  {
   "cell_type": "code",
   "execution_count": 3,
   "id": "2a6fd4a0",
   "metadata": {},
   "outputs": [],
   "source": [
    "w0 = 10 * 2 * np.pi # qubit frequency\n",
    "w1 = 10 * 2 * np.pi\n",
    "\n",
    "# J01 = 0.\n",
    "# J_ratio = 0.01 # 0.005 # 0.01\n",
    "# J = J_ratio * min(w0,w1) # 0. # J01 # 0.\n",
    "# assert J >= 0.\n",
    "\n",
    "g_ratio = 0.01\n",
    "g = g_ratio * min(w0,w1)\n",
    "\n",
    "# Omega_2J_ratio = 0.4 # 0.3 # 0.2 # 0.1 # 0.05 # 0.1\n",
    "# Omega = Omega_2J_ratio * 2*J\n",
    "Omega_g_ratio = 0.5 # 0.31\n",
    "Omega = Omega_g_ratio * g\n",
    "\n",
    "# g = - J\n",
    "del0 = g/2. # - 2.*g\n",
    "del1 = 0.\n",
    "\n",
    "\n",
    "# del0 = 2*J + Omega\n",
    "# del1_del0_ratio = 3. # 1. # 1.5 # 2.1\n",
    "# del1 = del1_del0_ratio * del0\n",
    "\n",
    "# del0_ratio = 2.1 # 1.3\n",
    "# del0 = del0_ratio*(-1)*(2*J)# 0.\n",
    "# del1 = 0. # 2*J - Omega # 0.\n",
    "\n",
    "# Omega = 2*J - del0 # 0.2 * J\n",
    "\n",
    "\n",
    "\n",
    "wmw0 = w0 - del0 # w0\n",
    "wmw1 = w1 - del1 # w1\n",
    "\n",
    "wR0 = Omega # 0. # 0.3 * 2 * np.pi  # Rabi amplitude\n",
    "wR1 = 0. # 0.3 * 2 * np.pi  # Rabi amplitude\n",
    "\n",
    "\n",
    "w = np.array([w0, w1])\n",
    "wR = np.array([wR0, wR1])\n",
    "wmw = np.array([wmw0, wmw1])\n",
    "dels = w - wmw\n",
    "assert w.size == wR.size and w.size == wmw.size\n",
    "N = w.size"
   ]
  },
  {
   "cell_type": "code",
   "execution_count": 4,
   "id": "e8533d27",
   "metadata": {},
   "outputs": [
    {
     "name": "stdout",
     "output_type": "stream",
     "text": [
      "dels_over_w = [0.005 0.   ]\n"
     ]
    }
   ],
   "source": [
    "dels_over_w = np.abs(dels / w) \n",
    "print(f\"dels_over_w = {dels_over_w}\")\n",
    "assert np.all(dels_over_w < 1e-1)"
   ]
  },
  {
   "cell_type": "code",
   "execution_count": 5,
   "id": "36c0cba2",
   "metadata": {},
   "outputs": [
    {
     "name": "stdout",
     "output_type": "stream",
     "text": [
      "wR_over_w = [0.005 0.   ]\n"
     ]
    }
   ],
   "source": [
    "wR_over_w = np.abs(wR / w)\n",
    "print(f\"wR_over_w = {wR_over_w}\")\n",
    "assert np.all(wR_over_w < 1e-1)"
   ]
  },
  {
   "cell_type": "code",
   "execution_count": 6,
   "id": "3d98acda",
   "metadata": {},
   "outputs": [
    {
     "data": {
      "text/plain": [
       "array([0.31415927, 0.        ])"
      ]
     },
     "execution_count": 6,
     "metadata": {},
     "output_type": "execute_result"
    }
   ],
   "source": [
    "dels"
   ]
  },
  {
   "cell_type": "code",
   "execution_count": 7,
   "id": "fc69c3e8",
   "metadata": {},
   "outputs": [],
   "source": [
    "zero = Qobj(np.zeros((2,2)))\n",
    "\n",
    "I, sigx, sigy, sigz = identity(2), sigmax(), sigmay(), sigmaz()"
   ]
  },
  {
   "cell_type": "code",
   "execution_count": 8,
   "id": "2f262a08",
   "metadata": {},
   "outputs": [],
   "source": [
    "sigz_0 = tensor([sigz,I])\n",
    "sigz_1 = tensor([I,sigz])\n",
    "sigzlist = [sigz_0, sigz_1]\n",
    "\n",
    "sigx_0 = tensor([sigx,I])\n",
    "sigx_1 = tensor([I,sigx])\n",
    "sigxlist = [sigx_0, sigx_1]\n",
    "\n",
    "sigzsigz = tensor(sigz,sigz)"
   ]
  },
  {
   "cell_type": "code",
   "execution_count": 9,
   "id": "19e84872",
   "metadata": {},
   "outputs": [
    {
     "data": {
      "text/latex": [
       "Quantum object: dims = [[2, 2], [2, 2]], shape = (4, 4), type = oper, isherm = True $ \\\\ \\left(\\begin{matrix}1.0 & 0.0 & 0.0 & 0.0\\\\0.0 & 1.0 & 0.0 & 0.0\\\\0.0 & 0.0 & -1.0 & 0.0\\\\0.0 & 0.0 & 0.0 & -1.0\\\\\\end{matrix}\\right)$"
      ],
      "text/plain": [
       "Quantum object: dims = [[2, 2], [2, 2]], shape = (4, 4), type = oper, isherm = True\n",
       "Qobj data =\n",
       "[[ 1.  0.  0.  0.]\n",
       " [ 0.  1.  0.  0.]\n",
       " [ 0.  0. -1.  0.]\n",
       " [ 0.  0.  0. -1.]]"
      ]
     },
     "execution_count": 9,
     "metadata": {},
     "output_type": "execute_result"
    }
   ],
   "source": [
    "sigzlist[0]"
   ]
  },
  {
   "cell_type": "code",
   "execution_count": 10,
   "id": "06f235eb",
   "metadata": {},
   "outputs": [
    {
     "data": {
      "text/latex": [
       "Quantum object: dims = [[2, 2], [2, 2]], shape = (4, 4), type = oper, isherm = True $ \\\\ \\left(\\begin{matrix}0.0 & 0.0 & 1.0 & 0.0\\\\0.0 & 0.0 & 0.0 & 1.0\\\\1.0 & 0.0 & 0.0 & 0.0\\\\0.0 & 1.0 & 0.0 & 0.0\\\\\\end{matrix}\\right)$"
      ],
      "text/plain": [
       "Quantum object: dims = [[2, 2], [2, 2]], shape = (4, 4), type = oper, isherm = True\n",
       "Qobj data =\n",
       "[[0. 0. 1. 0.]\n",
       " [0. 0. 0. 1.]\n",
       " [1. 0. 0. 0.]\n",
       " [0. 1. 0. 0.]]"
      ]
     },
     "execution_count": 10,
     "metadata": {},
     "output_type": "execute_result"
    }
   ],
   "source": [
    "sigxlist[0]"
   ]
  },
  {
   "cell_type": "code",
   "execution_count": 11,
   "id": "6df38fe9",
   "metadata": {},
   "outputs": [
    {
     "data": {
      "text/plain": [
       "0.0"
      ]
     },
     "execution_count": 11,
     "metadata": {},
     "output_type": "execute_result"
    }
   ],
   "source": [
    "w[1] - wmw[1]"
   ]
  },
  {
   "cell_type": "code",
   "execution_count": 12,
   "id": "61298f2b",
   "metadata": {},
   "outputs": [
    {
     "data": {
      "text/plain": [
       "0.0"
      ]
     },
     "execution_count": 12,
     "metadata": {},
     "output_type": "execute_result"
    }
   ],
   "source": [
    "del1"
   ]
  },
  {
   "cell_type": "code",
   "execution_count": 13,
   "id": "d12f85bd",
   "metadata": {},
   "outputs": [
    {
     "data": {
      "text/plain": [
       "0.3141592653589811"
      ]
     },
     "execution_count": 13,
     "metadata": {},
     "output_type": "execute_result"
    }
   ],
   "source": [
    "w[0] - wmw[0]"
   ]
  },
  {
   "cell_type": "code",
   "execution_count": 14,
   "id": "fd9f36d2",
   "metadata": {},
   "outputs": [
    {
     "data": {
      "text/plain": [
       "0.3141592653589793"
      ]
     },
     "execution_count": 14,
     "metadata": {},
     "output_type": "execute_result"
    }
   ],
   "source": [
    "del0"
   ]
  },
  {
   "cell_type": "code",
   "execution_count": 15,
   "id": "35ecd868",
   "metadata": {},
   "outputs": [],
   "source": [
    "options = Options(nsteps=20000)\n",
    "\n",
    "H0 = tensor([zero,zero])\n",
    "for j in range(N):\n",
    "    H0 += (w[j]-wmw[j]) * (sigzlist[j]/2.) # + wR[j] * (sigxlist[j]/2.)\n",
    "# H0 += (- J) * sigzsigz\n",
    "H0 += (-g) * sigzsigz/(2*2)\n",
    "    \n",
    "Hdrive = tensor([zero,zero])\n",
    "for j in range(N):\n",
    "    Hdrive += wR[j] * (sigxlist[j]/2.)\n",
    "\n",
    "# H0 = (- J01) * sigzsigz\n",
    "# H += (- J01) * sigzsigz\n",
    "H = H0 + Hdrive"
   ]
  },
  {
   "cell_type": "code",
   "execution_count": 16,
   "id": "ae26bad8",
   "metadata": {},
   "outputs": [],
   "source": [
    "T_pi = np.pi / (wR[0])\n",
    "\n",
    "tmax = T_pi # 100 # 50 # 20 # 10. # T_pi # 10\n",
    "t = np.linspace(0,tmax,201)"
   ]
  },
  {
   "cell_type": "code",
   "execution_count": 17,
   "id": "5d94e96b",
   "metadata": {},
   "outputs": [
    {
     "data": {
      "text/plain": [
       "'w0-62.83-w1-62.83-wmw0-62.52-wmw1-62.83-wR0-0.3142-wR1-0-g-0.6283-tmax-10.0'"
      ]
     },
     "execution_count": 17,
     "metadata": {},
     "output_type": "execute_result"
    }
   ],
   "source": [
    "params = (f\"w0-{w[0]:.4g}-w1-{w[1]:.4g}-wmw0-{wmw[0]:.4g}-wmw1\"\n",
    "          f\"-{wmw[1]:.4g}-wR0-{wR[0]:.4g}-wR1-{wR[1]:.4g}-g-{g:.4g}-tmax-{tmax}\")\n",
    "params"
   ]
  },
  {
   "cell_type": "code",
   "execution_count": 18,
   "id": "856e2686",
   "metadata": {},
   "outputs": [
    {
     "data": {
      "text/latex": [
       "Quantum object: dims = [[2, 2], [2, 2]], shape = (4, 4), type = oper, isherm = True $ \\\\ \\left(\\begin{matrix}1.0 & 0.0 & 0.0 & 0.0\\\\0.0 & -1.0 & 0.0 & 0.0\\\\0.0 & 0.0 & -1.0 & 0.0\\\\0.0 & 0.0 & 0.0 & 1.0\\\\\\end{matrix}\\right)$"
      ],
      "text/plain": [
       "Quantum object: dims = [[2, 2], [2, 2]], shape = (4, 4), type = oper, isherm = True\n",
       "Qobj data =\n",
       "[[ 1.  0.  0.  0.]\n",
       " [ 0. -1.  0.  0.]\n",
       " [ 0.  0. -1.  0.]\n",
       " [ 0.  0.  0.  1.]]"
      ]
     },
     "execution_count": 18,
     "metadata": {},
     "output_type": "execute_result"
    }
   ],
   "source": [
    "sigzsigz"
   ]
  },
  {
   "cell_type": "code",
   "execution_count": 19,
   "id": "a141a1eb",
   "metadata": {},
   "outputs": [
    {
     "data": {
      "text/latex": [
       "Quantum object: dims = [[2, 2], [2, 2]], shape = (4, 4), type = oper, isherm = True $ \\\\ \\left(\\begin{matrix}1.0 & 0.0 & 0.0 & 0.0\\\\0.0 & 1.0 & 0.0 & 0.0\\\\0.0 & 0.0 & -1.0 & 0.0\\\\0.0 & 0.0 & 0.0 & -1.0\\\\\\end{matrix}\\right)$"
      ],
      "text/plain": [
       "Quantum object: dims = [[2, 2], [2, 2]], shape = (4, 4), type = oper, isherm = True\n",
       "Qobj data =\n",
       "[[ 1.  0.  0.  0.]\n",
       " [ 0.  1.  0.  0.]\n",
       " [ 0.  0. -1.  0.]\n",
       " [ 0.  0.  0. -1.]]"
      ]
     },
     "execution_count": 19,
     "metadata": {},
     "output_type": "execute_result"
    }
   ],
   "source": [
    "sigzlist[0]"
   ]
  },
  {
   "cell_type": "code",
   "execution_count": 20,
   "id": "cff9b31d",
   "metadata": {},
   "outputs": [
    {
     "data": {
      "text/latex": [
       "Quantum object: dims = [[2, 2], [2, 2]], shape = (4, 4), type = oper, isherm = True $ \\\\ \\left(\\begin{matrix}1.0 & 0.0 & 0.0 & 0.0\\\\0.0 & -1.0 & 0.0 & 0.0\\\\0.0 & 0.0 & 1.0 & 0.0\\\\0.0 & 0.0 & 0.0 & -1.0\\\\\\end{matrix}\\right)$"
      ],
      "text/plain": [
       "Quantum object: dims = [[2, 2], [2, 2]], shape = (4, 4), type = oper, isherm = True\n",
       "Qobj data =\n",
       "[[ 1.  0.  0.  0.]\n",
       " [ 0. -1.  0.  0.]\n",
       " [ 0.  0.  1.  0.]\n",
       " [ 0.  0.  0. -1.]]"
      ]
     },
     "execution_count": 20,
     "metadata": {},
     "output_type": "execute_result"
    }
   ],
   "source": [
    "sigzlist[1]"
   ]
  },
  {
   "cell_type": "code",
   "execution_count": 21,
   "id": "a8a17f87",
   "metadata": {},
   "outputs": [
    {
     "data": {
      "text/plain": [
       "0.6283185307179586"
      ]
     },
     "execution_count": 21,
     "metadata": {},
     "output_type": "execute_result"
    }
   ],
   "source": [
    "# J\n",
    "g"
   ]
  },
  {
   "cell_type": "code",
   "execution_count": 22,
   "id": "91724ce4",
   "metadata": {},
   "outputs": [
    {
     "data": {
      "text/latex": [
       "Quantum object: dims = [[2, 2], [2, 2]], shape = (4, 4), type = oper, isherm = True $ \\\\ \\left(\\begin{matrix}0.0 & 0.0 & 0.0 & 0.0\\\\0.0 & 0.314 & 0.0 & 0.0\\\\0.0 & 0.0 & 0.0 & 0.0\\\\0.0 & 0.0 & 0.0 & -0.314\\\\\\end{matrix}\\right)$"
      ],
      "text/plain": [
       "Quantum object: dims = [[2, 2], [2, 2]], shape = (4, 4), type = oper, isherm = True\n",
       "Qobj data =\n",
       "[[ 0.          0.          0.          0.        ]\n",
       " [ 0.          0.31415927  0.          0.        ]\n",
       " [ 0.          0.          0.          0.        ]\n",
       " [ 0.          0.          0.         -0.31415927]]"
      ]
     },
     "execution_count": 22,
     "metadata": {},
     "output_type": "execute_result"
    }
   ],
   "source": [
    "H0"
   ]
  },
  {
   "cell_type": "code",
   "execution_count": 23,
   "id": "b310d64c",
   "metadata": {},
   "outputs": [
    {
     "data": {
      "text/plain": [
       "array([-0.31415927,  0.        ,  0.        ,  0.31415927])"
      ]
     },
     "execution_count": 23,
     "metadata": {},
     "output_type": "execute_result"
    }
   ],
   "source": [
    "eigvals = H0.eigenenergies()\n",
    "\n",
    "eigvals"
   ]
  },
  {
   "cell_type": "code",
   "execution_count": 24,
   "id": "cf9fe23d",
   "metadata": {},
   "outputs": [
    {
     "data": {
      "text/plain": [
       "[]"
      ]
     },
     "execution_count": 24,
     "metadata": {},
     "output_type": "execute_result"
    },
    {
     "data": {
      "image/png": "[encoded data removed]",
      "text/plain": [
       "<Figure size 432x288 with 1 Axes>"
      ]
     },
     "metadata": {
      "needs_background": "light"
     },
     "output_type": "display_data"
    }
   ],
   "source": [
    "fig, ax = plt.subplots()\n",
    "\n",
    "ax.hlines(eigvals, 0, 1, color='k', lw=1.)\n",
    "ax.set_ylabel(\"Energy\")\n",
    "ax.xaxis.set_ticks([])\n",
    "# fig.savefig(f\"energy-levels-test-005-{params}.png\")"
   ]
  },
  {
   "cell_type": "code",
   "execution_count": 25,
   "id": "c064f9e0",
   "metadata": {},
   "outputs": [
    {
     "data": {
      "text/plain": [
       "0.3141592653589793"
      ]
     },
     "execution_count": 25,
     "metadata": {},
     "output_type": "execute_result"
    }
   ],
   "source": [
    "Omega"
   ]
  },
  {
   "cell_type": "code",
   "execution_count": 26,
   "id": "18cbc04e",
   "metadata": {},
   "outputs": [
    {
     "data": {
      "text/plain": [
       "0.3141592653589802"
      ]
     },
     "execution_count": 26,
     "metadata": {},
     "output_type": "execute_result"
    }
   ],
   "source": [
    "eigvals[3] - eigvals[2]"
   ]
  },
  {
   "cell_type": "code",
   "execution_count": 27,
   "id": "769070fe",
   "metadata": {},
   "outputs": [
    {
     "data": {
      "text/plain": [
       "0.6283185307179604"
      ]
     },
     "execution_count": 27,
     "metadata": {},
     "output_type": "execute_result"
    }
   ],
   "source": [
    "eigvals[3] - eigvals[0]"
   ]
  },
  {
   "cell_type": "code",
   "execution_count": 28,
   "id": "db86a8be",
   "metadata": {},
   "outputs": [
    {
     "data": {
      "text/plain": [
       "0.3141592653589793"
      ]
     },
     "execution_count": 28,
     "metadata": {},
     "output_type": "execute_result"
    }
   ],
   "source": [
    "Omega"
   ]
  },
  {
   "cell_type": "code",
   "execution_count": 29,
   "id": "8b4927ba",
   "metadata": {},
   "outputs": [],
   "source": [
    "# 2*J"
   ]
  },
  {
   "cell_type": "code",
   "execution_count": 30,
   "id": "3e338f76",
   "metadata": {},
   "outputs": [
    {
     "data": {
      "text/plain": [
       "0.0"
      ]
     },
     "execution_count": 30,
     "metadata": {},
     "output_type": "execute_result"
    }
   ],
   "source": [
    "del1"
   ]
  },
  {
   "cell_type": "code",
   "execution_count": 31,
   "id": "395a33fa",
   "metadata": {},
   "outputs": [],
   "source": [
    "# abs(del1) - 2*J"
   ]
  },
  {
   "cell_type": "code",
   "execution_count": 32,
   "id": "fa2be4a4",
   "metadata": {},
   "outputs": [
    {
     "data": {
      "text/plain": [
       "array([-0.31415927,  0.        ,  0.        ,  0.31415927])"
      ]
     },
     "execution_count": 32,
     "metadata": {},
     "output_type": "execute_result"
    }
   ],
   "source": [
    "eigvals"
   ]
  },
  {
   "cell_type": "markdown",
   "id": "83f9eb51",
   "metadata": {},
   "source": [
    "# [TODO] Add rwa-free solution"
   ]
  },
  {
   "cell_type": "code",
   "execution_count": 33,
   "id": "37e87725",
   "metadata": {},
   "outputs": [
    {
     "name": "stdout",
     "output_type": "stream",
     "text": [
      "E_00 = -62.98893270447535\n",
      "E_11 = 62.67477343911637\n",
      "E_10 = 0.15707963267948966\n",
      "E_01 = 0.15707963267948966\n"
     ]
    }
   ],
   "source": [
    "E_00 = -(g/4) +(1/2.)*(-w[0]-w[1])\n",
    "E_11 = -(g/4) +(1/2.)*(+w[0]+w[1])\n",
    "E_01 = +(g/4) +(1/2.)*(-w[0]+w[1])\n",
    "E_10 = +(g/4) +(1/2.)*(+w[0]-w[1])\n",
    "eigval_labels = (\"00\",\"11\",\"10\",\"01\")\n",
    "for eigval, label in zip((E_00, E_11, E_10, E_01),eigval_labels):\n",
    "    print(f\"E_{label} = {eigval}\")\n",
    "eigvals_ana = np.array([E_00, E_11, E_10, E_01])\n",
    "indices_sort = np.argsort(eigvals_ana)\n",
    "# eigvals_ana.sort()\n",
    "eigvals_ana[:] = eigvals_ana[indices_sort]\n",
    "eigvals_labels_sorted = [eigval_labels[j_sort] for j_sort in indices_sort]"
   ]
  },
  {
   "cell_type": "code",
   "execution_count": 34,
   "id": "9f6c0733",
   "metadata": {},
   "outputs": [
    {
     "data": {
      "text/plain": [
       "array([-62.9889327 ,   0.15707963,   0.15707963,  62.67477344])"
      ]
     },
     "execution_count": 34,
     "metadata": {},
     "output_type": "execute_result"
    }
   ],
   "source": [
    "eigvals_ana"
   ]
  },
  {
   "cell_type": "code",
   "execution_count": 35,
   "id": "ea00542f",
   "metadata": {},
   "outputs": [
    {
     "data": {
      "text/plain": [
       "['00', '10', '01', '11']"
      ]
     },
     "execution_count": 35,
     "metadata": {},
     "output_type": "execute_result"
    }
   ],
   "source": [
    "eigvals_labels_sorted"
   ]
  },
  {
   "cell_type": "code",
   "execution_count": 36,
   "id": "10650994",
   "metadata": {},
   "outputs": [
    {
     "data": {
      "text/plain": [
       "array([-62.67477344,   0.15707963,   0.15707963,  62.36061417])"
      ]
     },
     "execution_count": 36,
     "metadata": {},
     "output_type": "execute_result"
    }
   ],
   "source": [
    "eigvals_ana - eigvals"
   ]
  },
  {
   "cell_type": "code",
   "execution_count": 37,
   "id": "2b97d344",
   "metadata": {},
   "outputs": [
    {
     "data": {
      "text/plain": [
       "0.3141592653589793"
      ]
     },
     "execution_count": 37,
     "metadata": {},
     "output_type": "execute_result"
    }
   ],
   "source": [
    "Omega"
   ]
  },
  {
   "cell_type": "code",
   "execution_count": 38,
   "id": "dae931a8",
   "metadata": {},
   "outputs": [
    {
     "data": {
      "text/plain": [
       "0.3141592653589802"
      ]
     },
     "execution_count": 38,
     "metadata": {},
     "output_type": "execute_result"
    }
   ],
   "source": [
    "eigvals[3] - eigvals[2]"
   ]
  },
  {
   "cell_type": "code",
   "execution_count": 39,
   "id": "942f2200",
   "metadata": {},
   "outputs": [],
   "source": [
    "sigvec = [sigx,sigy,sigz]\n",
    "\n",
    "c_ops = []"
   ]
  },
  {
   "cell_type": "code",
   "execution_count": 40,
   "id": "322af6f9",
   "metadata": {},
   "outputs": [],
   "source": [
    "rho_00_00 = ket2dm(tensor([basis(2,1),basis(2,1)])) # ket2dm(tensor([basis(2,0),basis(2,0)]))\n",
    "\n",
    "# rho_00_00\n",
    "\n",
    "# fidelity(rho_00_00, rho_00_00)\n",
    "\n",
    "# rho_t0 = rho_00_00\n",
    "\n",
    "def fidel_00_00(t, rho):\n",
    "#     _rho_00_00 = ket2dm(tensor([basis(2,0),basis(2,0)]))\n",
    "    return fidelity(rho_00_00, rho)\n",
    "\n",
    "# fidel_00_00(_, rho_00_00)\n",
    "\n",
    "res_00_00 = mesolve(H, rho_00_00, t, c_ops, fidel_00_00, options=options)\n",
    "\n",
    "assert not np.any(np.abs(np.imag(res_00_00.expect)).max() > 1e-15)\n",
    "fidel_00_00_from_00_00 = np.real(res_00_00.expect)"
   ]
  },
  {
   "cell_type": "code",
   "execution_count": 41,
   "id": "9daebc4c",
   "metadata": {},
   "outputs": [],
   "source": [
    "rho_01_01 = ket2dm(tensor([basis(2,1),basis(2,0)])) # ket2dm(tensor([basis(2,0),basis(2,1)]))\n",
    "\n",
    "# rho_t0 = rho_01_01\n",
    "\n",
    "rho_11_11 = ket2dm(tensor([basis(2,0),basis(2,0)])) # ket2dm(tensor([basis(2,1),basis(2,1)]))\n",
    "def fidel_11_11(t, rho):\n",
    "#     rho_11_11 = ket2dm(tensor([basis(2,1),basis(2,1)]))\n",
    "    global rho_11_11\n",
    "    return fidelity(rho_11_11, rho)\n",
    "\n",
    "res_01_01 = mesolve(H, rho_01_01, t, c_ops, options=options)"
   ]
  },
  {
   "cell_type": "code",
   "execution_count": 42,
   "id": "25722086",
   "metadata": {},
   "outputs": [],
   "source": [
    "fidel_11_11_from_01_01 = np.empty_like(t, dtype=np.float64)\n",
    "for jt, state in enumerate(res_01_01.states):\n",
    "    fidel_11_11_from_01_01[jt] = fidelity(rho_11_11, state)"
   ]
  },
  {
   "cell_type": "code",
   "execution_count": 43,
   "id": "47d7cb3c",
   "metadata": {},
   "outputs": [],
   "source": [
    "jt_max_fidel_11_11_from_01_01 = np.argmax(fidel_11_11_from_01_01)"
   ]
  },
  {
   "cell_type": "code",
   "execution_count": 44,
   "id": "74293a6f",
   "metadata": {},
   "outputs": [
    {
     "data": {
      "text/plain": [
       "array([[9.99997713e-01, 0.00000000e+00, 1.04900786e-06, 0.00000000e+00],\n",
       "       [0.00000000e+00, 0.00000000e+00, 0.00000000e+00, 0.00000000e+00],\n",
       "       [1.04900786e-06, 0.00000000e+00, 2.28701774e-06, 0.00000000e+00],\n",
       "       [0.00000000e+00, 0.00000000e+00, 0.00000000e+00, 0.00000000e+00]])"
      ]
     },
     "execution_count": 44,
     "metadata": {},
     "output_type": "execute_result"
    }
   ],
   "source": [
    "np.abs(res_01_01.states[-1].data.toarray())"
   ]
  },
  {
   "cell_type": "code",
   "execution_count": 45,
   "id": "faec709f",
   "metadata": {},
   "outputs": [],
   "source": [
    "rho_max_fidel_11_from_01 = res_01_01.states[jt_max_fidel_11_11_from_01_01].data.toarray()\n",
    "rho_max_fidel_11_from_01_abs = np.abs(rho_max_fidel_11_from_01)"
   ]
  },
  {
   "cell_type": "code",
   "execution_count": 46,
   "id": "a1442899",
   "metadata": {},
   "outputs": [],
   "source": [
    "xx, yy = np.meshgrid(np.arange(4), np.arange(4))"
   ]
  },
  {
   "cell_type": "code",
   "execution_count": 47,
   "id": "a0c9a6a8",
   "metadata": {},
   "outputs": [],
   "source": [
    "zz = np.zeros_like(xx)"
   ]
  },
  {
   "cell_type": "code",
   "execution_count": 51,
   "id": "8f3321d2",
   "metadata": {},
   "outputs": [
    {
     "data": {
      "image/png": "[encoded data removed]",
      "text/plain": [
       "<Figure size 432x288 with 1 Axes>"
      ]
     },
     "metadata": {
      "needs_background": "light"
     },
     "output_type": "display_data"
    }
   ],
   "source": [
    "fig = plt.figure(constrained_layout=True)\n",
    "ax = fig.add_subplot(projection='3d')\n",
    "ax.bar3d(xx.ravel(), yy.ravel(), zz.ravel(), 1, 1, rho_max_fidel_11_from_01_abs.ravel())\n",
    "# fig.savefig(f\"rho-abs-test-001-{params}.png\")"
   ]
  },
  {
   "cell_type": "code",
   "execution_count": 52,
   "id": "07f078ea",
   "metadata": {},
   "outputs": [
    {
     "data": {
      "text/plain": [
       "(array([[-1.00000000e+00+0.00000000e+00j,  1.04901266e-06+0.00000000e+00j,\n",
       "          0.00000000e+00+0.00000000e+00j,  0.00000000e+00+0.00000000e+00j],\n",
       "        [ 0.00000000e+00+0.00000000e+00j,  0.00000000e+00+0.00000000e+00j,\n",
       "          0.00000000e+00+0.00000000e+00j,  0.00000000e+00-1.00000000e+00j],\n",
       "        [ 0.00000000e+00+1.04901266e-06j,  0.00000000e+00+1.00000000e+00j,\n",
       "          0.00000000e+00+0.00000000e+00j,  0.00000000e+00+0.00000000e+00j],\n",
       "        [ 0.00000000e+00+0.00000000e+00j,  0.00000000e+00+0.00000000e+00j,\n",
       "          1.00000000e+00+0.00000000e+00j,  0.00000000e+00+0.00000000e+00j]]),\n",
       " array([9.99997713e-01, 2.28701664e-06, 0.00000000e+00, 0.00000000e+00]),\n",
       " array([[-1.00000000e+00+0.00000000e+00j,  0.00000000e+00+0.00000000e+00j,\n",
       "          0.00000000e+00-1.04901266e-06j, -0.00000000e+00+0.00000000e+00j],\n",
       "        [ 1.04901266e-06+0.00000000e+00j,  0.00000000e+00+0.00000000e+00j,\n",
       "          0.00000000e+00-1.00000000e+00j, -0.00000000e+00+0.00000000e+00j],\n",
       "        [ 0.00000000e+00+0.00000000e+00j,  0.00000000e+00+0.00000000e+00j,\n",
       "          0.00000000e+00+0.00000000e+00j,  1.00000000e+00+0.00000000e+00j],\n",
       "        [ 0.00000000e+00+0.00000000e+00j,  0.00000000e+00-1.00000000e+00j,\n",
       "          0.00000000e+00+0.00000000e+00j,  0.00000000e+00+0.00000000e+00j]]))"
      ]
     },
     "execution_count": 52,
     "metadata": {},
     "output_type": "execute_result"
    }
   ],
   "source": [
    "np.linalg.svd(rho_max_fidel_11_from_01)"
   ]
  },
  {
   "cell_type": "code",
   "execution_count": 53,
   "id": "84910633",
   "metadata": {},
   "outputs": [
    {
     "data": {
      "text/plain": [
       "4.440892098500626e-16"
      ]
     },
     "execution_count": 53,
     "metadata": {},
     "output_type": "execute_result"
    }
   ],
   "source": [
    "fidelity(res_01_01.states[-1], res_01_01.states[-1]) - 1"
   ]
  },
  {
   "cell_type": "code",
   "execution_count": 54,
   "id": "55286381",
   "metadata": {},
   "outputs": [
    {
     "data": {
      "text/plain": [
       "(201,)"
      ]
     },
     "execution_count": 54,
     "metadata": {},
     "output_type": "execute_result"
    }
   ],
   "source": [
    "fidel_11_11_from_01_01.shape"
   ]
  },
  {
   "cell_type": "code",
   "execution_count": 55,
   "id": "225eee0b",
   "metadata": {},
   "outputs": [],
   "source": [
    "# assert not np.any(np.abs(np.imag(res_01_01.expect)).max() > 1e-15)\n",
    "# fidel_11_11_from_01_01 = np.real(res_01_01.expect)"
   ]
  },
  {
   "cell_type": "code",
   "execution_count": 56,
   "id": "49a8f707",
   "metadata": {},
   "outputs": [],
   "source": [
    "# res_01_01.states"
   ]
  },
  {
   "cell_type": "code",
   "execution_count": 57,
   "id": "4d96c72a",
   "metadata": {},
   "outputs": [],
   "source": [
    "rho_01_01 = ket2dm(tensor([basis(2,1),basis(2,0)]))\n",
    "rho_11_11 = ket2dm(tensor([basis(2,0),basis(2,0)]))\n",
    "\n",
    "def fidel_01_01(t, rho):\n",
    "    global rho_01_01\n",
    "    return fidelity(rho_01_01, rho)\n",
    "\n",
    "res_11_11 = mesolve(H, rho_11_11, t, c_ops, fidel_01_01, options=options)\n",
    "\n",
    "assert not np.any(np.abs(np.imag(res_11_11.expect)).max() > 1e-15)\n",
    "fidel_01_01_from_11_11 = np.real(res_11_11.expect)"
   ]
  },
  {
   "cell_type": "code",
   "execution_count": 58,
   "id": "22197ec7",
   "metadata": {},
   "outputs": [],
   "source": [
    "rho_10_10 = ket2dm(tensor([basis(2,0),basis(2,1)]))\n",
    "\n",
    "def fidel_10_10(t, rho):\n",
    "    global rho_10_10\n",
    "    return fidelity(rho_10_10, rho)\n",
    "\n",
    "res_10_10 = mesolve(H, rho_10_10, t, c_ops, fidel_10_10, options=options)\n",
    "\n",
    "assert not np.any(np.abs(np.imag(res_10_10.expect)).max() > 1e-15)\n",
    "fidel_10_10_from_10_10 = np.real(res_10_10.expect)"
   ]
  },
  {
   "cell_type": "markdown",
   "id": "2e2535e2",
   "metadata": {},
   "source": [
    "# [TODO] Compare the `fidelity()` function in `qutip` and the analytical calculation for some density operators\n",
    "\n",
    "# --> From the source code, the fidelity is\n",
    "$$\n",
    "F(\\rho,\\sigma) = Tr\\left[\\sqrt{\\sqrt{\\rho}\\sigma\\sqrt{\\rho}}\\right]\n",
    "$$"
   ]
  },
  {
   "cell_type": "code",
   "execution_count": 59,
   "id": "ac497cfe",
   "metadata": {},
   "outputs": [],
   "source": [
    "fidel_stack = np.empty((4,t.size))\n",
    "fidel_stack[0,:] = fidel_11_11_from_01_01\n",
    "fidel_stack[1,:] = fidel_10_10_from_10_10\n",
    "fidel_stack[2,:] = fidel_01_01_from_11_11\n",
    "fidel_stack[3,:] = fidel_00_00_from_00_00"
   ]
  },
  {
   "cell_type": "code",
   "execution_count": 60,
   "id": "fb39fe0d",
   "metadata": {},
   "outputs": [],
   "source": [
    "sq_fidel_stack = np.square(fidel_stack)"
   ]
  },
  {
   "cell_type": "code",
   "execution_count": 65,
   "id": "2a598b25",
   "metadata": {},
   "outputs": [
    {
     "data": {
      "image/png": "[encoded data removed]",
      "text/plain": [
       "<Figure size 504x360 with 1 Axes>"
      ]
     },
     "metadata": {
      "needs_background": "light"
     },
     "output_type": "display_data"
    }
   ],
   "source": [
    "fig, ax = plt.subplots(ncols=1, figsize=(7,5), constrained_layout=True, \n",
    "#                          gridspec_kw=dict(width_ratios=[3,1])\n",
    "                      )\n",
    "\n",
    "# ax = axes[0]\n",
    "l_00_from_00, = ax.plot(t, sq_fidel_stack[3,:], lw=3, ls='--')\n",
    "l_11_from_01, = ax.plot(t, sq_fidel_stack[0,:])\n",
    "l_10_from_10, = ax.plot(t, sq_fidel_stack[1,:], lw=5, ls=':')\n",
    "l_01_from_11, = ax.plot(t, sq_fidel_stack[2,:], lw=5, ls='-.', alpha=0.75)\n",
    "ax.set_xlim(t[[0,-1]])\n",
    "ax.set_xlabel(r\"Time\")\n",
    "ax.set_ylabel(\"Fidelity\")\n",
    "ax.legend(\n",
    "    [l_00_from_00, l_11_from_01, l_10_from_10, l_01_from_11], \n",
    "    [r\"$F[\\rho(t), |00\\rangle\\langle 00|]$, $\\rho(0)=|00\\rangle\\langle 00|$\", \n",
    "     r\"$F[\\rho(t), |11\\rangle\\langle 11|]$, $\\rho(0)=|01\\rangle\\langle 01|$\",\n",
    "     r\"$F[\\rho(t), |10\\rangle\\langle 10|]$, $\\rho(0)=|10\\rangle\\langle 10|$\",\n",
    "     r\"$F[\\rho(t), |01\\rangle\\langle 01|]$, $\\rho(0)=|11\\rangle\\langle 11|$\"\n",
    "    ],\n",
    "    loc='lower center',\n",
    "    bbox_to_anchor=(0.5,1)\n",
    ")\n",
    "ax.yaxis.set_ticks([0,0.25,0.5,0.75,1])\n",
    "ax.grid(True, alpha=0.75, lw=0.75)\n",
    "ax.set_axisbelow(True)\n",
    "\n",
    "\n",
    "# l_10_from_10.set_visible(False)\n",
    "# l_11_from_01.set_visible(False)\n",
    "# l_01_from_11.set_visible(False)\n",
    "ax.set_ylim(0,1)\n",
    "\n",
    "\n",
    "# ax = axes[1]\n",
    "# ax.hlines(eigvals, 0, 1, color='k', lw=1.)\n",
    "# for eigval, label in zip(eigvals_ana, eigvals_labels_sorted):\n",
    "#     ax.text(1.02, eigval, fr\"$|{label}\\rangle$\", va='center', ha='left', fontsize='large')\n",
    "# ax.set_xlim(-0.1,1.4)\n",
    "# ax.set_ylabel(\"Energy\")\n",
    "# ax.xaxis.set_ticks([])\n",
    "\n",
    "# fig.savefig(f\"fidelities-test-045-{params}.svg\")"
   ]
  },
  {
   "cell_type": "code",
   "execution_count": 64,
   "id": "b46bbfa3",
   "metadata": {},
   "outputs": [
    {
     "data": {
      "text/plain": [
       "'w0-62.83-w1-62.83-wmw0-62.52-wmw1-62.83-wR0-0.3142-wR1-0-g-0.6283-tmax-10.0'"
      ]
     },
     "execution_count": 64,
     "metadata": {},
     "output_type": "execute_result"
    }
   ],
   "source": [
    "params"
   ]
  },
  {
   "cell_type": "code",
   "execution_count": 63,
   "id": "b7c4b36a",
   "metadata": {},
   "outputs": [
    {
     "data": {
      "text/plain": [
       "array([0.99999771, 0.97373679, 0.99999771, 0.97373679])"
      ]
     },
     "execution_count": 63,
     "metadata": {},
     "output_type": "execute_result"
    }
   ],
   "source": [
    "sq_fidel_stack[:,-1]"
   ]
  },
  {
   "cell_type": "code",
   "execution_count": null,
   "id": "b65c4902",
   "metadata": {},
   "outputs": [],
   "source": [
    "fidel_11_11_from_01_01.max()"
   ]
  },
  {
   "cell_type": "code",
   "execution_count": null,
   "id": "4442e5a4",
   "metadata": {},
   "outputs": [],
   "source": [
    "1/2**0.5"
   ]
  }
 ],
 "metadata": {
  "kernelspec": {
   "display_name": "Python 3 (ipykernel)",
   "language": "python",
   "name": "python3"
  },
  "language_info": {
   "codemirror_mode": {
    "name": "ipython",
    "version": 3
   },
   "file_extension": ".py",
   "mimetype": "text/x-python",
   "name": "python",
   "nbconvert_exporter": "python",
   "pygments_lexer": "ipython3",
   "version": "3.8.10"
  }
 },
 "nbformat": 4,
 "nbformat_minor": 5
}

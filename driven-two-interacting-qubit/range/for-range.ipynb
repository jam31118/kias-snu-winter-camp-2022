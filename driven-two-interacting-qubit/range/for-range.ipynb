{
 "cells": [
  {
   "cell_type": "code",
   "execution_count": 8,
   "id": "bdb420a2",
   "metadata": {},
   "outputs": [],
   "source": [
    "import matplotlib.pyplot as plt\n",
    "plt.style.use('../../note.mplstyle')\n",
    "import numpy as np"
   ]
  },
  {
   "cell_type": "code",
   "execution_count": 9,
   "id": "b599f238",
   "metadata": {},
   "outputs": [],
   "source": [
    "from qutip import *"
   ]
  },
  {
   "cell_type": "markdown",
   "id": "68af1cec",
   "metadata": {},
   "source": [
    "# (may be different to this project) Unit system\n",
    "\n",
    "Let $R \\equiv [\\Delta_{0}^{2} + \\Delta_{1}^{2} + (J/\\hbar)^{2}]^{1/2}$\n",
    "\n",
    "- The unit of energy : $\\hbar R$\n",
    "- The unit of frequency : $R$"
   ]
  },
  {
   "cell_type": "code",
   "execution_count": 10,
   "id": "975fd771",
   "metadata": {},
   "outputs": [],
   "source": [
    "from numpy import pi, cos, sin"
   ]
  },
  {
   "cell_type": "code",
   "execution_count": 11,
   "id": "08aaf229",
   "metadata": {},
   "outputs": [],
   "source": [
    "N_theta = 11 # 25 # 41 # 11 # 3\n",
    "N_phi = 12 # 31 # 51 # 4\n",
    "\n",
    "theta_max = pi # pi/2.\n",
    "phi_max = 2*pi\n",
    "\n",
    "theta_arr = np.linspace(0, theta_max,N_theta)\n",
    "# N_theta = theta_arr.size\n",
    "phi_arr = np.linspace(0,phi_max,N_phi)\n",
    "# N_phi = phi_arr.size"
   ]
  },
  {
   "cell_type": "code",
   "execution_count": 12,
   "id": "cdb39071",
   "metadata": {},
   "outputs": [],
   "source": [
    "del0_mesh = np.multiply.outer(sin(theta_arr), cos(phi_arr))\n",
    "del1_mesh = np.multiply.outer(sin(theta_arr), sin(phi_arr))\n",
    "# J_mesh = np.multiply.outer(cos(theta_arr), np.ones_like(phi_arr))\n",
    "g_mesh = np.multiply.outer(cos(theta_arr), np.ones_like(phi_arr))"
   ]
  },
  {
   "cell_type": "code",
   "execution_count": 13,
   "id": "2051b622",
   "metadata": {},
   "outputs": [
    {
     "data": {
      "text/plain": [
       "(11, 12)"
      ]
     },
     "execution_count": 13,
     "metadata": {},
     "output_type": "execute_result"
    }
   ],
   "source": [
    "del0_mesh.shape"
   ]
  },
  {
   "cell_type": "code",
   "execution_count": 14,
   "id": "1c0ac8f2",
   "metadata": {},
   "outputs": [],
   "source": [
    "# dels_mesh = np.empty()\n",
    "dels_mesh = np.stack((del0_mesh,del1_mesh))"
   ]
  },
  {
   "cell_type": "code",
   "execution_count": 15,
   "id": "d0a1df21",
   "metadata": {},
   "outputs": [
    {
     "data": {
      "text/plain": [
       "(2, 11, 12)"
      ]
     },
     "execution_count": 15,
     "metadata": {},
     "output_type": "execute_result"
    }
   ],
   "source": [
    "dels_mesh.shape"
   ]
  },
  {
   "cell_type": "code",
   "execution_count": 16,
   "id": "80cbbabc",
   "metadata": {},
   "outputs": [],
   "source": [
    "# dels_mesh[(0)]"
   ]
  },
  {
   "cell_type": "code",
   "execution_count": 18,
   "id": "0fb4c0e6",
   "metadata": {},
   "outputs": [],
   "source": [
    "# Omega0_mesh = np.abs(del0_mesh - 2.*J_mesh)\n",
    "Omega0_mesh = (1/2.)*g_mesh\n",
    "\n",
    "Omega1 = 0."
   ]
  },
  {
   "cell_type": "code",
   "execution_count": 19,
   "id": "9cb135d2",
   "metadata": {},
   "outputs": [],
   "source": [
    "options = Options(nsteps=20000)"
   ]
  },
  {
   "cell_type": "code",
   "execution_count": 20,
   "id": "3a4f84df",
   "metadata": {},
   "outputs": [],
   "source": [
    "# del0_mesh"
   ]
  },
  {
   "cell_type": "code",
   "execution_count": 21,
   "id": "4e70b2e6",
   "metadata": {},
   "outputs": [],
   "source": [
    "zero = Qobj(np.zeros((2,2)))\n",
    "\n",
    "I, sigx, sigy, sigz = identity(2), sigmax(), sigmay(), sigmaz()\n",
    "\n",
    "sigz_0 = tensor([sigz,I])\n",
    "sigz_1 = tensor([I,sigz])\n",
    "sigzlist = [sigz_0, sigz_1]\n",
    "\n",
    "sigx_0 = tensor([sigx,I])\n",
    "sigx_1 = tensor([I,sigx])\n",
    "sigxlist = [sigx_0, sigx_1]\n",
    "\n",
    "sigzsigz = tensor(sigz,sigz)"
   ]
  },
  {
   "cell_type": "code",
   "execution_count": 22,
   "id": "807b104e",
   "metadata": {},
   "outputs": [],
   "source": [
    "N = 2"
   ]
  },
  {
   "cell_type": "code",
   "execution_count": 23,
   "id": "19dda261",
   "metadata": {},
   "outputs": [],
   "source": [
    "# params = (f\"-{wmw[1]:.4g}-wR0-{wR[0]:.4g}-wR1-{wR[1]:.4g}-J-{J:.4g}-tmax-{tmax}\")\n",
    "# params"
   ]
  },
  {
   "cell_type": "code",
   "execution_count": 24,
   "id": "1934d437",
   "metadata": {},
   "outputs": [
    {
     "data": {
      "text/plain": [
       "'Omega0-resonant-E01-E11_Omega1-zero'"
      ]
     },
     "execution_count": 24,
     "metadata": {},
     "output_type": "execute_result"
    }
   ],
   "source": [
    "params = f\"Omega0-resonant-E01-E11_Omega1-zero\"\n",
    "params"
   ]
  },
  {
   "cell_type": "code",
   "execution_count": 25,
   "id": "4eeeeafa",
   "metadata": {},
   "outputs": [],
   "source": [
    "# (1/2**0.5) * tensor([basis(2,1), basis(2,1)]) \n",
    "# + (1/2**0.5) * tensor([basis(2,0), basis(2,0)])"
   ]
  },
  {
   "cell_type": "code",
   "execution_count": 26,
   "id": "e4a85fa6",
   "metadata": {},
   "outputs": [
    {
     "data": {
      "text/latex": [
       "Quantum object: dims = [[2, 2], [2, 2]], shape = (4, 4), type = oper, isherm = True $ \\\\ \\left(\\begin{matrix}0.500 & 0.0 & 0.0 & 0.500\\\\0.0 & 0.0 & 0.0 & 0.0\\\\0.0 & 0.0 & 0.0 & 0.0\\\\0.500 & 0.0 & 0.0 & 0.500\\\\\\end{matrix}\\right)$"
      ],
      "text/plain": [
       "Quantum object: dims = [[2, 2], [2, 2]], shape = (4, 4), type = oper, isherm = True\n",
       "Qobj data =\n",
       "[[0.5 0.  0.  0.5]\n",
       " [0.  0.  0.  0. ]\n",
       " [0.  0.  0.  0. ]\n",
       " [0.5 0.  0.  0.5]]"
      ]
     },
     "execution_count": 26,
     "metadata": {},
     "output_type": "execute_result"
    }
   ],
   "source": [
    "ket_11 = tensor([basis(2,0), basis(2,0)])\n",
    "ket_01 = tensor([basis(2,1), basis(2,0)])\n",
    "\n",
    "ket_01_plus_11 = (1/2**0.5) * ket_11 + (1/2**0.5) * ket_01\n",
    "\n",
    "ket_00 = tensor([basis(2,1), basis(2,1)])\n",
    "\n",
    "ket_00_plus_11 = (1/2**0.5) * ket_00 + (1/2**0.5) * ket_11\n",
    "\n",
    "rho_00_plus_11 = ket2dm(ket_00_plus_11)\n",
    "\n",
    "rho_00_plus_11"
   ]
  },
  {
   "cell_type": "code",
   "execution_count": 27,
   "id": "0d82607f",
   "metadata": {},
   "outputs": [],
   "source": [
    "# ket_01_plus_11.norm()\n",
    "\n",
    "# ket_00_plus_11.norm()"
   ]
  },
  {
   "cell_type": "code",
   "execution_count": 28,
   "id": "fecc37e1",
   "metadata": {},
   "outputs": [],
   "source": [
    "c_ops = []"
   ]
  },
  {
   "cell_type": "code",
   "execution_count": 29,
   "id": "78257d9d",
   "metadata": {},
   "outputs": [],
   "source": [
    "tmax = 10 # 100\n",
    "t = np.linspace(0,tmax,201)"
   ]
  },
  {
   "cell_type": "code",
   "execution_count": 30,
   "id": "4dcc7d70",
   "metadata": {},
   "outputs": [],
   "source": [
    "rho_01_plus_11 = ket2dm(ket_01_plus_11)"
   ]
  },
  {
   "cell_type": "code",
   "execution_count": 31,
   "id": "9990c1c7",
   "metadata": {},
   "outputs": [],
   "source": [
    "fidel_00_plus_11 = lambda t, rho: np.real(fidelity(rho_00_plus_11, rho))"
   ]
  },
  {
   "cell_type": "code",
   "execution_count": 32,
   "id": "04122b02",
   "metadata": {},
   "outputs": [],
   "source": [
    "# np.arange(24).reshape(2,3,4)\n",
    "\n",
    "# np.arange(24).reshape(2,3,4)[:,(1,2)]"
   ]
  },
  {
   "cell_type": "code",
   "execution_count": 33,
   "id": "9ac187c5",
   "metadata": {},
   "outputs": [
    {
     "name": "stdout",
     "output_type": "stream",
     "text": [
      "N_theta = 11, N_phi = 12\n",
      "j_theta = 0\n",
      "j_theta = 0\n",
      "j_theta = 0\n",
      "j_theta = 0\n",
      "j_theta = 0\n",
      "j_theta = 0\n",
      "j_theta = 0\n",
      "j_theta = 0\n",
      "j_theta = 0\n",
      "j_theta = 0\n",
      "j_theta = 0\n",
      "j_theta = 0\n",
      "j_theta = 1\n",
      "j_theta = 1\n",
      "j_theta = 1\n",
      "j_theta = 1\n",
      "j_theta = 1\n",
      "j_theta = 1\n",
      "j_theta = 1\n",
      "j_theta = 1\n",
      "j_theta = 1\n",
      "j_theta = 1\n",
      "j_theta = 1\n",
      "j_theta = 1\n",
      "j_theta = 2\n",
      "j_theta = 2\n",
      "j_theta = 2\n",
      "j_theta = 2\n",
      "j_theta = 2\n",
      "j_theta = 2\n",
      "j_theta = 2\n",
      "j_theta = 2\n",
      "j_theta = 2\n",
      "j_theta = 2\n",
      "j_theta = 2\n",
      "j_theta = 2\n",
      "j_theta = 3\n",
      "j_theta = 3\n",
      "j_theta = 3\n",
      "j_theta = 3\n",
      "j_theta = 3\n",
      "j_theta = 3\n",
      "j_theta = 3\n",
      "j_theta = 3\n",
      "j_theta = 3\n",
      "j_theta = 3\n",
      "j_theta = 3\n",
      "j_theta = 3\n",
      "j_theta = 4\n",
      "j_theta = 4\n",
      "j_theta = 4\n",
      "j_theta = 4\n",
      "j_theta = 4\n",
      "j_theta = 4\n",
      "j_theta = 4\n",
      "j_theta = 4\n",
      "j_theta = 4\n",
      "j_theta = 4\n",
      "j_theta = 4\n",
      "j_theta = 4\n",
      "j_theta = 5\n",
      "j_theta = 5\n",
      "j_theta = 5\n",
      "j_theta = 5\n",
      "j_theta = 5\n",
      "j_theta = 5\n",
      "j_theta = 5\n",
      "j_theta = 5\n",
      "j_theta = 5\n",
      "j_theta = 5\n",
      "j_theta = 5\n",
      "j_theta = 5\n",
      "j_theta = 6\n",
      "j_theta = 6\n",
      "j_theta = 6\n",
      "j_theta = 6\n",
      "j_theta = 6\n",
      "j_theta = 6\n",
      "j_theta = 6\n",
      "j_theta = 6\n",
      "j_theta = 6\n",
      "j_theta = 6\n",
      "j_theta = 6\n",
      "j_theta = 6\n",
      "j_theta = 7\n",
      "j_theta = 7\n",
      "j_theta = 7\n",
      "j_theta = 7\n",
      "j_theta = 7\n",
      "j_theta = 7\n",
      "j_theta = 7\n",
      "j_theta = 7\n",
      "j_theta = 7\n",
      "j_theta = 7\n",
      "j_theta = 7\n",
      "j_theta = 7\n",
      "j_theta = 8\n",
      "j_theta = 8\n",
      "j_theta = 8\n",
      "j_theta = 8\n",
      "j_theta = 8\n",
      "j_theta = 8\n",
      "j_theta = 8\n",
      "j_theta = 8\n",
      "j_theta = 8\n",
      "j_theta = 8\n",
      "j_theta = 8\n",
      "j_theta = 8\n",
      "j_theta = 9\n",
      "j_theta = 9\n",
      "j_theta = 9\n",
      "j_theta = 9\n",
      "j_theta = 9\n",
      "j_theta = 9\n",
      "j_theta = 9\n",
      "j_theta = 9\n",
      "j_theta = 9\n",
      "j_theta = 9\n",
      "j_theta = 9\n",
      "j_theta = 9\n",
      "j_theta = 10\n",
      "j_theta = 10\n",
      "j_theta = 10\n",
      "j_theta = 10\n",
      "j_theta = 10\n",
      "j_theta = 10\n",
      "j_theta = 10\n",
      "j_theta = 10\n",
      "j_theta = 10\n",
      "j_theta = 10\n",
      "j_theta = 10\n",
      "j_theta = 10\n"
     ]
    }
   ],
   "source": [
    "fidel_00_plus_11_t_mesh = np.empty((N_theta, N_phi, t.size), dtype=np.float64)\n",
    "\n",
    "print(f\"N_theta = {N_theta}, N_phi = {N_phi}\")\n",
    "for indices in np.ndindex((N_theta, N_phi)):\n",
    "    \n",
    "    j_theta, j_phi = indices\n",
    "    print(f\"j_theta = {j_theta}\")\n",
    "    dels = dels_mesh[:,j_theta,j_phi]\n",
    "#     J = J_mesh[indices]\n",
    "    g = g_mesh[indices]\n",
    "    wR = [Omega0_mesh[indices], Omega1]\n",
    "    \n",
    "    H0 = tensor([zero,zero])\n",
    "    for j in range(N):\n",
    "        H0 += dels[j] * (sigzlist[j]/2.)\n",
    "#     H0 += (- J) * sigzsigz\n",
    "    H0 += (- g) * sigzsigz / (2*2)\n",
    "\n",
    "    Hdrive = tensor([zero,zero])\n",
    "    for j in range(N):\n",
    "        Hdrive += wR[j] * (sigxlist[j]/2.)\n",
    "        \n",
    "    H = H0 + Hdrive\n",
    "    \n",
    "    res = mesolve(H, rho_01_plus_11, t, c_ops, fidel_00_plus_11, options=options)\n",
    "    fidel_00_plus_11_t_mesh[j_theta,j_phi,:] = res.expect\n",
    "#     print(indices, res.expect)"
   ]
  },
  {
   "cell_type": "code",
   "execution_count": 34,
   "id": "389888f9",
   "metadata": {},
   "outputs": [
    {
     "data": {
      "text/plain": [
       "(11, 12, 201)"
      ]
     },
     "execution_count": 34,
     "metadata": {},
     "output_type": "execute_result"
    }
   ],
   "source": [
    "fidel_00_plus_11_t_mesh.shape"
   ]
  },
  {
   "cell_type": "code",
   "execution_count": 35,
   "id": "0a544108",
   "metadata": {},
   "outputs": [],
   "source": [
    "fidel_00_plus_11_mesh_max_t = np.max(fidel_00_plus_11_t_mesh, axis=-1)"
   ]
  },
  {
   "cell_type": "code",
   "execution_count": 36,
   "id": "44d1f295",
   "metadata": {},
   "outputs": [],
   "source": [
    "# fidel_00_plus_11_mesh_max_t"
   ]
  },
  {
   "cell_type": "markdown",
   "id": "bd2296e5",
   "metadata": {},
   "source": [
    "# [TODO] Think about why "
   ]
  },
  {
   "cell_type": "code",
   "execution_count": 37,
   "id": "58f0abc5",
   "metadata": {},
   "outputs": [],
   "source": [
    "sq_fidel_00_plus_11_t_mesh = np.square(fidel_00_plus_11_t_mesh)"
   ]
  },
  {
   "cell_type": "code",
   "execution_count": 39,
   "id": "e0488af4",
   "metadata": {},
   "outputs": [
    {
     "data": {
      "image/png": "[encoded data removed]",
      "text/plain": [
       "<Figure size 432x288 with 1 Axes>"
      ]
     },
     "metadata": {
      "needs_background": "light"
     },
     "output_type": "display_data"
    }
   ],
   "source": [
    "fig, ax = plt.subplots()\n",
    "\n",
    "for j_theta, j_phi in np.ndindex((N_theta,N_phi)):\n",
    "    ax.plot(t, sq_fidel_00_plus_11_t_mesh[j_theta,j_phi]) # fidel_00_plus_11_t_mesh\n",
    "    \n",
    "ax.set_xlabel(\"Time\")\n",
    "ax.set_ylabel(\"Fidelity\")\n",
    "ax.set_ylim(0,1)\n",
    "ax.set_xlim(t[[0,-1]])\n",
    "# fig.savefig(\"fidelity-time-dep-test-006.png\")"
   ]
  },
  {
   "cell_type": "code",
   "execution_count": 40,
   "id": "6c1700a7",
   "metadata": {},
   "outputs": [
    {
     "data": {
      "text/plain": [
       "0.8535533905932737"
      ]
     },
     "execution_count": 40,
     "metadata": {},
     "output_type": "execute_result"
    }
   ],
   "source": [
    "(1/2.) + (1/2.)*(1/np.sqrt(2))"
   ]
  },
  {
   "cell_type": "code",
   "execution_count": 41,
   "id": "f1c2ef5c",
   "metadata": {},
   "outputs": [],
   "source": [
    "from ultrashort.plot import color_meshes_from_arrays\n",
    "\n",
    "phi_over_pi_cmesh, theta_over_pi_cmesh = color_meshes_from_arrays(phi_arr/pi, theta_arr/pi)"
   ]
  },
  {
   "cell_type": "code",
   "execution_count": 42,
   "id": "6a83ebe6",
   "metadata": {},
   "outputs": [
    {
     "data": {
      "text/plain": [
       "11"
      ]
     },
     "execution_count": 42,
     "metadata": {},
     "output_type": "execute_result"
    }
   ],
   "source": [
    "N_theta"
   ]
  },
  {
   "cell_type": "code",
   "execution_count": 43,
   "id": "ab3942da",
   "metadata": {},
   "outputs": [],
   "source": [
    "sq_fidel_00_plus_11_mesh_max_t = np.square(fidel_00_plus_11_mesh_max_t)"
   ]
  },
  {
   "cell_type": "code",
   "execution_count": 45,
   "id": "7611519e",
   "metadata": {},
   "outputs": [
    {
     "data": {
      "image/png": "[encoded data removed]",
      "text/plain": [
       "<Figure size 432x288 with 2 Axes>"
      ]
     },
     "metadata": {
      "needs_background": "light"
     },
     "output_type": "display_data"
    }
   ],
   "source": [
    "fig, ax = plt.subplots(constrained_layout=True)\n",
    "\n",
    "cmap = 'jet' # 'binary' # 'bwr'\n",
    "pcm = ax.pcolormesh(theta_over_pi_cmesh, phi_over_pi_cmesh, \n",
    "                    sq_fidel_00_plus_11_mesh_max_t, vmax=1, vmin=0, cmap=cmap) # fidel_00_plus_11_mesh_max_t\n",
    "ax.set_xlabel(r\"$\\theta / \\pi$\")\n",
    "ax.set_ylabel(r\"$\\phi / \\pi$\")\n",
    "cb = fig.colorbar(pcm, ax=ax)\n",
    "cb.set_label(r\"Fidelity\")\n",
    "ax.set_title(r\"$F[\\rho(t),|\\Phi^{+}\\rangle\\langle\\Phi^{+}|]$\"\n",
    "             r\", $|\\Phi^{+}\\rangle \\equiv (1/\\sqrt{2})(|00\\rangle+|11\\rangle)$\", pad=15)\n",
    "\n",
    "ax.xaxis.set_ticks(np.linspace(0,1,5))\n",
    "ax.grid(True, color='lightgray', alpha=0.75, lw=0.75)\n",
    "\n",
    "# fig.savefig(f\"fidelity-00-plus-11-from-01-plus-11-test-014-{params}.png\")"
   ]
  }
 ],
 "metadata": {
  "kernelspec": {
   "display_name": "Python 3 (ipykernel)",
   "language": "python",
   "name": "python3"
  },
  "language_info": {
   "codemirror_mode": {
    "name": "ipython",
    "version": 3
   },
   "file_extension": ".py",
   "mimetype": "text/x-python",
   "name": "python",
   "nbconvert_exporter": "python",
   "pygments_lexer": "ipython3",
   "version": "3.8.10"
  }
 },
 "nbformat": 4,
 "nbformat_minor": 5
}

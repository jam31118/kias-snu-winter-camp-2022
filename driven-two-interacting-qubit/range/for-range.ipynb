{
 "cells": [
  {
   "cell_type": "code",
   "execution_count": 1,
   "id": "860e8164",
   "metadata": {},
   "outputs": [],
   "source": [
    "import matplotlib.pyplot as plt\n",
    "plt.style.use('../../note.mplstyle')\n",
    "import numpy as np"
   ]
  },
  {
   "cell_type": "code",
   "execution_count": 2,
   "id": "8920d0b2",
   "metadata": {},
   "outputs": [],
   "source": [
    "from qutip import *"
   ]
  },
  {
   "cell_type": "markdown",
   "id": "236b3714",
   "metadata": {},
   "source": [
    "# Unit system\n",
    "\n",
    "Let $R \\equiv [\\Delta_{0}^{2} + \\Delta_{1}^{2} + (J/\\hbar)^{2}]^{1/2}$\n",
    "\n",
    "- The unit of energy : $\\hbar R$\n",
    "- The unit of frequency : $R$"
   ]
  },
  {
   "cell_type": "code",
   "execution_count": 3,
   "id": "d35470d6",
   "metadata": {},
   "outputs": [],
   "source": [
    "from numpy import pi, cos, sin"
   ]
  },
  {
   "cell_type": "code",
   "execution_count": 4,
   "id": "a701fbae",
   "metadata": {},
   "outputs": [],
   "source": [
    "theta_arr = np.linspace(0, pi/2.,3)\n",
    "N_theta = theta_arr.size\n",
    "\n",
    "phi_arr = np.linspace(0,pi/2.,4)\n",
    "N_phi = phi_arr.size"
   ]
  },
  {
   "cell_type": "code",
   "execution_count": 5,
   "id": "54a26b0c",
   "metadata": {},
   "outputs": [],
   "source": [
    "del0_mesh = np.multiply.outer(sin(theta_arr), cos(phi_arr))\n",
    "del1_mesh = np.multiply.outer(sin(theta_arr), sin(phi_arr))\n",
    "J_mesh = np.multiply.outer(cos(theta_arr), np.ones_like(phi_arr))"
   ]
  },
  {
   "cell_type": "code",
   "execution_count": 6,
   "id": "e49012b5",
   "metadata": {},
   "outputs": [
    {
     "data": {
      "text/plain": [
       "(3, 4)"
      ]
     },
     "execution_count": 6,
     "metadata": {},
     "output_type": "execute_result"
    }
   ],
   "source": [
    "del0_mesh.shape"
   ]
  },
  {
   "cell_type": "code",
   "execution_count": 7,
   "id": "e4b3124b",
   "metadata": {},
   "outputs": [],
   "source": [
    "# dels_mesh = np.empty()\n",
    "dels_mesh = np.stack((del0_mesh,del1_mesh))"
   ]
  },
  {
   "cell_type": "code",
   "execution_count": 8,
   "id": "579548f2",
   "metadata": {},
   "outputs": [
    {
     "data": {
      "text/plain": [
       "(2, 3, 4)"
      ]
     },
     "execution_count": 8,
     "metadata": {},
     "output_type": "execute_result"
    }
   ],
   "source": [
    "dels_mesh.shape"
   ]
  },
  {
   "cell_type": "code",
   "execution_count": 9,
   "id": "cd24787d",
   "metadata": {},
   "outputs": [],
   "source": [
    "# dels_mesh[(0)]"
   ]
  },
  {
   "cell_type": "code",
   "execution_count": 10,
   "id": "a2964714",
   "metadata": {},
   "outputs": [],
   "source": [
    "Omega0_mesh = np.abs(del0_mesh - 2.*J_mesh)"
   ]
  },
  {
   "cell_type": "code",
   "execution_count": 11,
   "id": "5512d443",
   "metadata": {},
   "outputs": [],
   "source": [
    "Omega1 = 0."
   ]
  },
  {
   "cell_type": "code",
   "execution_count": 12,
   "id": "1a7f74d2",
   "metadata": {},
   "outputs": [],
   "source": [
    "options = Options(nsteps=20000)"
   ]
  },
  {
   "cell_type": "code",
   "execution_count": 13,
   "id": "eda5189c",
   "metadata": {},
   "outputs": [
    {
     "data": {
      "text/plain": [
       "array([[0.00000000e+00, 0.00000000e+00, 0.00000000e+00, 0.00000000e+00],\n",
       "       [7.07106781e-01, 6.12372436e-01, 3.53553391e-01, 4.32978028e-17],\n",
       "       [1.00000000e+00, 8.66025404e-01, 5.00000000e-01, 6.12323400e-17]])"
      ]
     },
     "execution_count": 13,
     "metadata": {},
     "output_type": "execute_result"
    }
   ],
   "source": [
    "del0_mesh"
   ]
  },
  {
   "cell_type": "code",
   "execution_count": 14,
   "id": "51316fc9",
   "metadata": {},
   "outputs": [],
   "source": [
    "zero = Qobj(np.zeros((2,2)))\n",
    "\n",
    "I, sigx, sigy, sigz = identity(2), sigmax(), sigmay(), sigmaz()\n",
    "\n",
    "sigz_0 = tensor([sigz,I])\n",
    "sigz_1 = tensor([I,sigz])\n",
    "sigzlist = [sigz_0, sigz_1]\n",
    "\n",
    "sigx_0 = tensor([sigx,I])\n",
    "sigx_1 = tensor([I,sigx])\n",
    "sigxlist = [sigx_0, sigx_1]\n",
    "\n",
    "sigzsigz = tensor(sigz,sigz)"
   ]
  },
  {
   "cell_type": "code",
   "execution_count": 15,
   "id": "e6ab8cae",
   "metadata": {},
   "outputs": [],
   "source": [
    "N = 2"
   ]
  },
  {
   "cell_type": "code",
   "execution_count": 16,
   "id": "3dc301e0",
   "metadata": {},
   "outputs": [],
   "source": [
    "# params = (f\"-{wmw[1]:.4g}-wR0-{wR[0]:.4g}-wR1-{wR[1]:.4g}-J-{J:.4g}-tmax-{tmax}\")\n",
    "# params"
   ]
  },
  {
   "cell_type": "code",
   "execution_count": 17,
   "id": "7baeb8fd",
   "metadata": {},
   "outputs": [
    {
     "data": {
      "text/plain": [
       "'Omega0-resonant-E01-E11_Omega1-zero'"
      ]
     },
     "execution_count": 17,
     "metadata": {},
     "output_type": "execute_result"
    }
   ],
   "source": [
    "params = f\"Omega0-resonant-E01-E11_Omega1-zero\"\n",
    "params"
   ]
  },
  {
   "cell_type": "code",
   "execution_count": 18,
   "id": "9219d968",
   "metadata": {},
   "outputs": [],
   "source": [
    "# state_t0 = (1/2**0.5) * basis(2,1) + (1/2**0.5) * basis(2,0)\n",
    "\n",
    "#  = ket2dm(state_t0)"
   ]
  },
  {
   "cell_type": "code",
   "execution_count": 19,
   "id": "621b876d",
   "metadata": {},
   "outputs": [
    {
     "data": {
      "text/latex": [
       "Quantum object: dims = [[2, 2], [1, 1]], shape = (4, 1), type = ket $ \\\\ \\left(\\begin{matrix}0.707\\\\0.0\\\\0.0\\\\0.0\\\\\\end{matrix}\\right)$"
      ],
      "text/plain": [
       "Quantum object: dims = [[2, 2], [1, 1]], shape = (4, 1), type = ket\n",
       "Qobj data =\n",
       "[[0.70710678]\n",
       " [0.        ]\n",
       " [0.        ]\n",
       " [0.        ]]"
      ]
     },
     "execution_count": 19,
     "metadata": {},
     "output_type": "execute_result"
    }
   ],
   "source": [
    "(1/2**0.5) * tensor([basis(2,1), basis(2,1)]) \n",
    "+ (1/2**0.5) * tensor([basis(2,0), basis(2,0)])"
   ]
  },
  {
   "cell_type": "code",
   "execution_count": 20,
   "id": "1f915ea0",
   "metadata": {},
   "outputs": [],
   "source": [
    "ket_11 = tensor([basis(2,0), basis(2,0)])\n",
    "ket_01 = tensor([basis(2,1), basis(2,0)])\n",
    "\n",
    "ket_01_plus_11 = (1/2**0.5) * ket_11 + (1/2**0.5) * ket_01"
   ]
  },
  {
   "cell_type": "code",
   "execution_count": 21,
   "id": "a1322517",
   "metadata": {},
   "outputs": [],
   "source": [
    "ket_00 = tensor([basis(2,1), basis(2,1)])"
   ]
  },
  {
   "cell_type": "code",
   "execution_count": 22,
   "id": "81625887",
   "metadata": {},
   "outputs": [],
   "source": [
    "ket_00_plus_11 = (1/2**0.5) * ket_00 + (1/2**0.5) * ket_11"
   ]
  },
  {
   "cell_type": "code",
   "execution_count": 23,
   "id": "f4dc82b0",
   "metadata": {},
   "outputs": [],
   "source": [
    "rho_00_plus_11 = ket2dm(ket_00_plus_11)"
   ]
  },
  {
   "cell_type": "code",
   "execution_count": 24,
   "id": "30b2eb1a",
   "metadata": {},
   "outputs": [
    {
     "data": {
      "text/latex": [
       "Quantum object: dims = [[2, 2], [2, 2]], shape = (4, 4), type = oper, isherm = True $ \\\\ \\left(\\begin{matrix}0.500 & 0.0 & 0.0 & 0.500\\\\0.0 & 0.0 & 0.0 & 0.0\\\\0.0 & 0.0 & 0.0 & 0.0\\\\0.500 & 0.0 & 0.0 & 0.500\\\\\\end{matrix}\\right)$"
      ],
      "text/plain": [
       "Quantum object: dims = [[2, 2], [2, 2]], shape = (4, 4), type = oper, isherm = True\n",
       "Qobj data =\n",
       "[[0.5 0.  0.  0.5]\n",
       " [0.  0.  0.  0. ]\n",
       " [0.  0.  0.  0. ]\n",
       " [0.5 0.  0.  0.5]]"
      ]
     },
     "execution_count": 24,
     "metadata": {},
     "output_type": "execute_result"
    }
   ],
   "source": [
    "rho_00_plus_11"
   ]
  },
  {
   "cell_type": "code",
   "execution_count": 25,
   "id": "b9664906",
   "metadata": {},
   "outputs": [
    {
     "data": {
      "text/plain": [
       "0.9999999999999999"
      ]
     },
     "execution_count": 25,
     "metadata": {},
     "output_type": "execute_result"
    }
   ],
   "source": [
    "ket_01_plus_11.norm()"
   ]
  },
  {
   "cell_type": "code",
   "execution_count": 26,
   "id": "2f2faf20",
   "metadata": {},
   "outputs": [
    {
     "data": {
      "text/plain": [
       "0.9999999999999999"
      ]
     },
     "execution_count": 26,
     "metadata": {},
     "output_type": "execute_result"
    }
   ],
   "source": [
    "ket_00_plus_11.norm()"
   ]
  },
  {
   "cell_type": "code",
   "execution_count": 27,
   "id": "ea2c1544",
   "metadata": {},
   "outputs": [],
   "source": [
    "# ket2dm(tensor([basis(2,1),basis(2,0)]))"
   ]
  },
  {
   "cell_type": "code",
   "execution_count": 28,
   "id": "fd550fe0",
   "metadata": {},
   "outputs": [],
   "source": [
    "c_ops = []"
   ]
  },
  {
   "cell_type": "code",
   "execution_count": 29,
   "id": "e45d0b49",
   "metadata": {},
   "outputs": [],
   "source": [
    "tmax = 10 # 100\n",
    "t = np.linspace(0,tmax,201)"
   ]
  },
  {
   "cell_type": "code",
   "execution_count": 30,
   "id": "d04f00a9",
   "metadata": {},
   "outputs": [],
   "source": [
    "rho_01_plus_11 = ket2dm(ket_01_plus_11)"
   ]
  },
  {
   "cell_type": "code",
   "execution_count": 31,
   "id": "e240e940",
   "metadata": {},
   "outputs": [],
   "source": [
    "# def fidel(_, rho):\n",
    "#     fidelity(rho)"
   ]
  },
  {
   "cell_type": "code",
   "execution_count": 32,
   "id": "8689ae8d",
   "metadata": {},
   "outputs": [],
   "source": [
    "fidel_00_plus_11 = lambda t, rho: np.real(fidelity(rho_00_plus_11, rho))"
   ]
  },
  {
   "cell_type": "code",
   "execution_count": 33,
   "id": "295cabed",
   "metadata": {},
   "outputs": [
    {
     "data": {
      "text/plain": [
       "array([[[ 0,  1,  2,  3],\n",
       "        [ 4,  5,  6,  7],\n",
       "        [ 8,  9, 10, 11]],\n",
       "\n",
       "       [[12, 13, 14, 15],\n",
       "        [16, 17, 18, 19],\n",
       "        [20, 21, 22, 23]]])"
      ]
     },
     "execution_count": 33,
     "metadata": {},
     "output_type": "execute_result"
    }
   ],
   "source": [
    "np.arange(24).reshape(2,3,4)"
   ]
  },
  {
   "cell_type": "code",
   "execution_count": 34,
   "id": "92ef9180",
   "metadata": {},
   "outputs": [
    {
     "data": {
      "text/plain": [
       "array([[[ 4,  5,  6,  7],\n",
       "        [ 8,  9, 10, 11]],\n",
       "\n",
       "       [[16, 17, 18, 19],\n",
       "        [20, 21, 22, 23]]])"
      ]
     },
     "execution_count": 34,
     "metadata": {},
     "output_type": "execute_result"
    }
   ],
   "source": [
    "np.arange(24).reshape(2,3,4)[:,(1,2)]"
   ]
  },
  {
   "cell_type": "code",
   "execution_count": 35,
   "id": "cc7c9b0c",
   "metadata": {},
   "outputs": [],
   "source": [
    "fidel_00_plus_11_t_mesh = np.empty((N_theta, N_phi, t.size), dtype=np.float64)\n",
    "\n",
    "for indices in np.ndindex((N_theta, N_phi)):\n",
    "#     print(j_theta, j_phi)\n",
    "    j_theta, j_phi = indices\n",
    "#     print(del0_mesh[indices])\n",
    "    dels = dels_mesh[:,j_theta,j_phi]\n",
    "    J = J_mesh[indices]\n",
    "    wR = [Omega0_mesh[indices], Omega1]\n",
    "    \n",
    "    H0 = tensor([zero,zero])\n",
    "    for j in range(N):\n",
    "        H0 += dels[j] * (sigzlist[j]/2.)\n",
    "    H0 += (- J) * sigzsigz\n",
    "\n",
    "    Hdrive = tensor([zero,zero])\n",
    "    for j in range(N):\n",
    "        Hdrive += wR[j] * (sigxlist[j]/2.)\n",
    "        \n",
    "    H = H0 + Hdrive\n",
    "    \n",
    "    res = mesolve(H, rho_01_plus_11, t, c_ops, fidel_00_plus_11, options=options)\n",
    "    fidel_00_plus_11_t_mesh[j_theta,j_phi,:] = res.expect\n",
    "#     print(indices, res.expect)"
   ]
  },
  {
   "cell_type": "code",
   "execution_count": 36,
   "id": "1b7a27a4",
   "metadata": {},
   "outputs": [
    {
     "data": {
      "text/plain": [
       "(3, 4, 201)"
      ]
     },
     "execution_count": 36,
     "metadata": {},
     "output_type": "execute_result"
    }
   ],
   "source": [
    "fidel_00_plus_11_t_mesh.shape"
   ]
  },
  {
   "cell_type": "code",
   "execution_count": 37,
   "id": "f5cc1b28",
   "metadata": {},
   "outputs": [],
   "source": [
    "fidel_00_plus_11_mesh_max_t = np.max(fidel_00_plus_11_t_mesh, axis=-1)"
   ]
  },
  {
   "cell_type": "code",
   "execution_count": 38,
   "id": "76f194e8",
   "metadata": {},
   "outputs": [
    {
     "data": {
      "text/plain": [
       "array([[0.5       , 0.5       , 0.5       , 0.5       ],\n",
       "       [0.5       , 0.5       , 0.5       , 0.5       ],\n",
       "       [0.70708756, 0.70710425, 0.70710553, 0.5       ]])"
      ]
     },
     "execution_count": 38,
     "metadata": {},
     "output_type": "execute_result"
    }
   ],
   "source": [
    "fidel_00_plus_11_mesh_max_t"
   ]
  },
  {
   "cell_type": "code",
   "execution_count": 39,
   "id": "31f95811",
   "metadata": {},
   "outputs": [],
   "source": [
    "from ultrashort.plot import color_meshes_from_arrays"
   ]
  },
  {
   "cell_type": "code",
   "execution_count": 40,
   "id": "500f368b",
   "metadata": {},
   "outputs": [],
   "source": [
    "phi_over_pi_cmesh, theta_over_pi_cmesh = color_meshes_from_arrays(phi_arr/pi, theta_arr/pi)"
   ]
  },
  {
   "cell_type": "code",
   "execution_count": 41,
   "id": "fd2cd02e",
   "metadata": {},
   "outputs": [
    {
     "data": {
      "text/plain": [
       "3"
      ]
     },
     "execution_count": 41,
     "metadata": {},
     "output_type": "execute_result"
    }
   ],
   "source": [
    "N_theta"
   ]
  },
  {
   "cell_type": "code",
   "execution_count": 43,
   "id": "384e3eb7",
   "metadata": {},
   "outputs": [
    {
     "data": {
      "image/png": "[encoded data removed]",
      "text/plain": [
       "<Figure size 432x288 with 2 Axes>"
      ]
     },
     "metadata": {
      "needs_background": "light"
     },
     "output_type": "display_data"
    }
   ],
   "source": [
    "fig, ax = plt.subplots(constrained_layout=True)\n",
    "pcm = ax.pcolormesh(theta_over_pi_cmesh, phi_over_pi_cmesh, \n",
    "                    fidel_00_plus_11_mesh_max_t, vmax=1, vmin=0, cmap='jet')\n",
    "ax.set_xlabel(r\"$\\theta / \\pi$\")\n",
    "ax.set_ylabel(r\"$\\phi / \\pi$\")\n",
    "cb = fig.colorbar(pcm, ax=ax)\n",
    "cb.set_label(r\"Fidelity\")\n",
    "ax.set_title(r\"$F[\\rho(t),|\\Phi^{+}\\rangle\\langle\\Phi^{+}|]$\"\n",
    "             r\", $|\\Phi^{+}\\rangle \\equiv (1/\\sqrt{2})(|00\\rangle+|11\\rangle)$\", pad=15)\n",
    "# fig.savefig(\"fidelity-00-plus-11-from-01-plus-11-test-003.png\")"
   ]
  }
 ],
 "metadata": {
  "kernelspec": {
   "display_name": "Python 3 (ipykernel)",
   "language": "python",
   "name": "python3"
  },
  "language_info": {
   "codemirror_mode": {
    "name": "ipython",
    "version": 3
   },
   "file_extension": ".py",
   "mimetype": "text/x-python",
   "name": "python",
   "nbconvert_exporter": "python",
   "pygments_lexer": "ipython3",
   "version": "3.8.10"
  }
 },
 "nbformat": 4,
 "nbformat_minor": 5
}

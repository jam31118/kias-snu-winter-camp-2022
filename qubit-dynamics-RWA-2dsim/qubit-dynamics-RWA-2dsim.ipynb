{
 "cells": [
  {
   "cell_type": "markdown",
   "metadata": {},
   "source": [
    "# QuTiP example: Single-Qubit Dynamics - RWA - 2Dsim"
   ]
  },
  {
   "cell_type": "markdown",
   "metadata": {},
   "source": [
    "This example shows hoe to implement 2 - dimensional simulation and 2D plot in qutip"
   ]
  },
  {
   "cell_type": "code",
   "execution_count": 1,
   "metadata": {},
   "outputs": [],
   "source": [
    "%matplotlib inline"
   ]
  },
  {
   "cell_type": "code",
   "execution_count": 2,
   "metadata": {},
   "outputs": [],
   "source": [
    "import matplotlib.pyplot as plt"
   ]
  },
  {
   "cell_type": "code",
   "execution_count": 3,
   "metadata": {},
   "outputs": [],
   "source": [
    "import numpy as np"
   ]
  },
  {
   "cell_type": "code",
   "execution_count": 4,
   "metadata": {},
   "outputs": [],
   "source": [
    "from qutip import *\n",
    "from qutip.ui.progressbar import TextProgressBar as ProgressBar"
   ]
  },
  {
   "cell_type": "code",
   "execution_count": 5,
   "metadata": {},
   "outputs": [],
   "source": [
    "\n",
    "options=Options(nsteps=200000)\n",
    "use_rwa = True\n",
    "def calculate():\n",
    "    rmat = np.zeros((len(frelist),len(tlist)))\n",
    "    pbar = ProgressBar(len(frelist))\n",
    "    # collapse operators\n",
    "    c_ops = []\n",
    "    if g1 > 0.0:\n",
    "        c_ops.append(np.sqrt(g1) * sigmam())\n",
    "    if g2 > 0.0:\n",
    "        c_ops.append(np.sqrt(g2) * sigmaz())\n",
    "\n",
    "    for i in range(len(frelist)):\n",
    "        pbar.update(i)\n",
    "        wmw = frelist[i]\n",
    "        H0 = 0\n",
    "        H1 = 0\n",
    "        args={'wmw': wmw}\n",
    "        if use_rwa:\n",
    "            H = (w0-wmw) / 2.0 * sigmaz() + wR / 2.0 * sigmax()\n",
    "            output = mesolve(H, rho0, tlist, c_ops, [sigmax(),sigmay(),sigmaz()],options=options)           \n",
    "        else: \n",
    "            H = [H0,[H1,'np.sin(wmw*t)*np.heaviside(0.5-t,0)']]\n",
    "            output = mesolve(H, rho0, tlist, c_ops, [sigmax(),sigmay(),sigmaz()],args,options=options)\n",
    "        rmat[i] = output.expect[2]\n",
    "    return rmat\n"
   ]
  },
  {
   "cell_type": "code",
   "execution_count": 12,
   "metadata": {},
   "outputs": [
    {
     "name": "stdout",
     "output_type": "stream",
     "text": [
      "11.8%. Run time:   0.27s. Est. time left: 00:00:00:02\n",
      "21.6%. Run time:   0.44s. Est. time left: 00:00:00:01\n",
      "31.4%. Run time:   0.58s. Est. time left: 00:00:00:01\n",
      "41.2%. Run time:   0.68s. Est. time left: 00:00:00:00\n",
      "51.0%. Run time:   0.77s. Est. time left: 00:00:00:00\n",
      "60.8%. Run time:   0.86s. Est. time left: 00:00:00:00\n",
      "70.6%. Run time:   0.97s. Est. time left: 00:00:00:00\n",
      "80.4%. Run time:   1.13s. Est. time left: 00:00:00:00\n",
      "90.2%. Run time:   1.30s. Est. time left: 00:00:00:00\n"
     ]
    }
   ],
   "source": [
    "w0 = 10 * 2 * np.pi # qubit frequency\n",
    "wR = 0.3 * 2 * np.pi  # Rabi amplitude\n",
    "\n",
    "tlist = np.linspace(0,10,201)\n",
    "frelist = np.linspace(6,14,51) * 2* np.pi \n",
    "g2 = 0.0\n",
    "g1 = 0.0\n",
    "\n",
    "# intial state\n",
    "rho0 = ket2dm(basis(2,0))\n",
    "\n",
    "rmat=calculate()"
   ]
  },
  {
   "cell_type": "code",
   "execution_count": 13,
   "metadata": {},
   "outputs": [
    {
     "data": {
      "image/png": "[encoded data removed]",
      "text/plain": [
       "<Figure size 576x576 with 1 Axes>"
      ]
     },
     "metadata": {
      "needs_background": "light"
     },
     "output_type": "display_data"
    }
   ],
   "source": [
    "fig, ax = plt.subplots(figsize=(8, 8))\n",
    "\n",
    "t_mat, fre_mat = np.meshgrid(tlist, frelist/(2*np.pi))\n",
    "\n",
    "ax.pcolor(t_mat, fre_mat, rmat)\n",
    "ax.set_xlabel(r'time ($\\mu$s)')\n",
    "ax.set_ylabel(r'Frequency $MHz$')\n",
    "ax.set_title(\"<Sz>\");"
   ]
  },
  {
   "cell_type": "markdown",
   "metadata": {},
   "source": [
    "## Versions"
   ]
  },
  {
   "cell_type": "code",
   "execution_count": 16,
   "metadata": {},
   "outputs": [
    {
     "data": {
      "text/html": [
       "<table><tr><th>Software</th><th>Version</th></tr><tr><td>QuTiP</td><td>4.3.0.dev0+6e5b1d43</td></tr><tr><td>Numpy</td><td>1.13.1</td></tr><tr><td>SciPy</td><td>0.19.1</td></tr><tr><td>matplotlib</td><td>2.0.2</td></tr><tr><td>Cython</td><td>0.25.2</td></tr><tr><td>Number of CPUs</td><td>2</td></tr><tr><td>BLAS Info</td><td>INTEL MKL</td></tr><tr><td>IPython</td><td>6.1.0</td></tr><tr><td>Python</td><td>3.6.2 |Anaconda custom (x86_64)| (default, Jul 20 2017, 13:14:59) \n",
       "[GCC 4.2.1 Compatible Apple LLVM 6.0 (clang-600.0.57)]</td></tr><tr><td>OS</td><td>posix [darwin]</td></tr><tr><td colspan='2'>Thu Jul 20 22:29:28 2017 MDT</td></tr></table>"
      ],
      "text/plain": [
       "<IPython.core.display.HTML object>"
      ]
     },
     "execution_count": 16,
     "metadata": {},
     "output_type": "execute_result"
    }
   ],
   "source": [
    "from qutip.ipynbtools import version_table\n",
    "\n",
    "version_table()"
   ]
  }
 ],
 "metadata": {
  "kernelspec": {
   "display_name": "Python 3",
   "language": "python",
   "name": "python3"
  },
  "language_info": {
   "codemirror_mode": {
    "name": "ipython",
    "version": 3
   },
   "file_extension": ".py",
   "mimetype": "text/x-python",
   "name": "python",
   "nbconvert_exporter": "python",
   "pygments_lexer": "ipython3",
   "version": "3.6.6"
  }
 },
 "nbformat": 4,
 "nbformat_minor": 1
}
